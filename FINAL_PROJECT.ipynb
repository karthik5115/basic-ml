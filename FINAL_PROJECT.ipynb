{
  "nbformat": 4,
  "nbformat_minor": 0,
  "metadata": {
    "colab": {
      "name": "FINAL PROJECT",
      "provenance": [],
      "collapsed_sections": [],
      "mount_file_id": "1pZUaEMOM6r_sHa6TqVhqpVdOlnCEbXKA",
      "authorship_tag": "ABX9TyNL2gIGVyN1u2Gr6Ty6tsZg",
      "include_colab_link": true
    },
    "kernelspec": {
      "name": "python3",
      "display_name": "Python 3"
    },
    "language_info": {
      "name": "python"
    }
  },
  "cells": [
    {
      "cell_type": "markdown",
      "metadata": {
        "id": "view-in-github",
        "colab_type": "text"
      },
      "source": [
        "<a href=\"https://colab.research.google.com/github/karthik5115/basic-ml/blob/main/FINAL_PROJECT.ipynb\" target=\"_parent\"><img src=\"https://colab.research.google.com/assets/colab-badge.svg\" alt=\"Open In Colab\"/></a>"
      ]
    },
    {
      "cell_type": "markdown",
      "metadata": {
        "id": "Q5FcPAeS8vEy"
      },
      "source": [
        ""
      ]
    },
    {
      "cell_type": "markdown",
      "metadata": {
        "id": "IP5KFkEf6WBC"
      },
      "source": [
        "here in this final project we are taking a dataset named netflix and its recommendations. in this dataset we are performing  exploratory data analysis(EDA) on models, some predictions based on recommendations,answering some usefull question and makeing EDA on them spliting daat into 80-20%, building machine learnig models..... "
      ]
    },
    {
      "cell_type": "markdown",
      "metadata": {
        "id": "RLv6Bwgs9gwF"
      },
      "source": [
        "EXPLORATORY DATA ANALYSIS (**EDA**)"
      ]
    },
    {
      "cell_type": "markdown",
      "metadata": {
        "id": "n-BwsXDS9oxh"
      },
      "source": [
        "importing the libraries...."
      ]
    },
    {
      "cell_type": "code",
      "metadata": {
        "id": "Erep3VMS9m-5"
      },
      "source": [
        "import numpy as np\n",
        "import pandas as pd\n",
        "import matplotlib.pyplot as plt\n",
        "import seaborn as sns\n",
        "%matplotlib inline"
      ],
      "execution_count": 121,
      "outputs": []
    },
    {
      "cell_type": "markdown",
      "metadata": {
        "id": "yBehLB0v_k6Q"
      },
      "source": [
        "loading the dataset"
      ]
    },
    {
      "cell_type": "code",
      "metadata": {
        "id": "vsdEncn-_oYa",
        "colab": {
          "base_uri": "https://localhost:8080/",
          "height": 938
        },
        "outputId": "2fb1a2a9-6550-4ca3-8e75-cfd873101abf"
      },
      "source": [
        "netflix = pd.read_csv('netflix_titles.csv')\n",
        "netflix"
      ],
      "execution_count": 122,
      "outputs": [
        {
          "output_type": "execute_result",
          "data": {
            "text/html": [
              "<div>\n",
              "<style scoped>\n",
              "    .dataframe tbody tr th:only-of-type {\n",
              "        vertical-align: middle;\n",
              "    }\n",
              "\n",
              "    .dataframe tbody tr th {\n",
              "        vertical-align: top;\n",
              "    }\n",
              "\n",
              "    .dataframe thead th {\n",
              "        text-align: right;\n",
              "    }\n",
              "</style>\n",
              "<table border=\"1\" class=\"dataframe\">\n",
              "  <thead>\n",
              "    <tr style=\"text-align: right;\">\n",
              "      <th></th>\n",
              "      <th>show_id</th>\n",
              "      <th>type</th>\n",
              "      <th>title</th>\n",
              "      <th>director</th>\n",
              "      <th>cast</th>\n",
              "      <th>country</th>\n",
              "      <th>date_added</th>\n",
              "      <th>release_year</th>\n",
              "      <th>rating</th>\n",
              "      <th>duration</th>\n",
              "      <th>listed_in</th>\n",
              "      <th>description</th>\n",
              "    </tr>\n",
              "  </thead>\n",
              "  <tbody>\n",
              "    <tr>\n",
              "      <th>0</th>\n",
              "      <td>s1</td>\n",
              "      <td>Movie</td>\n",
              "      <td>Dick Johnson Is Dead</td>\n",
              "      <td>Kirsten Johnson</td>\n",
              "      <td>NaN</td>\n",
              "      <td>United States</td>\n",
              "      <td>September 25, 2021</td>\n",
              "      <td>2020</td>\n",
              "      <td>PG-13</td>\n",
              "      <td>90 min</td>\n",
              "      <td>Documentaries</td>\n",
              "      <td>As her father nears the end of his life, filmm...</td>\n",
              "    </tr>\n",
              "    <tr>\n",
              "      <th>1</th>\n",
              "      <td>s2</td>\n",
              "      <td>TV Show</td>\n",
              "      <td>Blood &amp; Water</td>\n",
              "      <td>NaN</td>\n",
              "      <td>Ama Qamata, Khosi Ngema, Gail Mabalane, Thaban...</td>\n",
              "      <td>South Africa</td>\n",
              "      <td>September 24, 2021</td>\n",
              "      <td>2021</td>\n",
              "      <td>TV-MA</td>\n",
              "      <td>2 Seasons</td>\n",
              "      <td>International TV Shows, TV Dramas, TV Mysteries</td>\n",
              "      <td>After crossing paths at a party, a Cape Town t...</td>\n",
              "    </tr>\n",
              "    <tr>\n",
              "      <th>2</th>\n",
              "      <td>s3</td>\n",
              "      <td>TV Show</td>\n",
              "      <td>Ganglands</td>\n",
              "      <td>Julien Leclercq</td>\n",
              "      <td>Sami Bouajila, Tracy Gotoas, Samuel Jouy, Nabi...</td>\n",
              "      <td>NaN</td>\n",
              "      <td>September 24, 2021</td>\n",
              "      <td>2021</td>\n",
              "      <td>TV-MA</td>\n",
              "      <td>1 Season</td>\n",
              "      <td>Crime TV Shows, International TV Shows, TV Act...</td>\n",
              "      <td>To protect his family from a powerful drug lor...</td>\n",
              "    </tr>\n",
              "    <tr>\n",
              "      <th>3</th>\n",
              "      <td>s4</td>\n",
              "      <td>TV Show</td>\n",
              "      <td>Jailbirds New Orleans</td>\n",
              "      <td>NaN</td>\n",
              "      <td>NaN</td>\n",
              "      <td>NaN</td>\n",
              "      <td>September 24, 2021</td>\n",
              "      <td>2021</td>\n",
              "      <td>TV-MA</td>\n",
              "      <td>1 Season</td>\n",
              "      <td>Docuseries, Reality TV</td>\n",
              "      <td>Feuds, flirtations and toilet talk go down amo...</td>\n",
              "    </tr>\n",
              "    <tr>\n",
              "      <th>4</th>\n",
              "      <td>s5</td>\n",
              "      <td>TV Show</td>\n",
              "      <td>Kota Factory</td>\n",
              "      <td>NaN</td>\n",
              "      <td>Mayur More, Jitendra Kumar, Ranjan Raj, Alam K...</td>\n",
              "      <td>India</td>\n",
              "      <td>September 24, 2021</td>\n",
              "      <td>2021</td>\n",
              "      <td>TV-MA</td>\n",
              "      <td>2 Seasons</td>\n",
              "      <td>International TV Shows, Romantic TV Shows, TV ...</td>\n",
              "      <td>In a city of coaching centers known to train I...</td>\n",
              "    </tr>\n",
              "    <tr>\n",
              "      <th>...</th>\n",
              "      <td>...</td>\n",
              "      <td>...</td>\n",
              "      <td>...</td>\n",
              "      <td>...</td>\n",
              "      <td>...</td>\n",
              "      <td>...</td>\n",
              "      <td>...</td>\n",
              "      <td>...</td>\n",
              "      <td>...</td>\n",
              "      <td>...</td>\n",
              "      <td>...</td>\n",
              "      <td>...</td>\n",
              "    </tr>\n",
              "    <tr>\n",
              "      <th>8802</th>\n",
              "      <td>s8803</td>\n",
              "      <td>Movie</td>\n",
              "      <td>Zodiac</td>\n",
              "      <td>David Fincher</td>\n",
              "      <td>Mark Ruffalo, Jake Gyllenhaal, Robert Downey J...</td>\n",
              "      <td>United States</td>\n",
              "      <td>November 20, 2019</td>\n",
              "      <td>2007</td>\n",
              "      <td>R</td>\n",
              "      <td>158 min</td>\n",
              "      <td>Cult Movies, Dramas, Thrillers</td>\n",
              "      <td>A political cartoonist, a crime reporter and a...</td>\n",
              "    </tr>\n",
              "    <tr>\n",
              "      <th>8803</th>\n",
              "      <td>s8804</td>\n",
              "      <td>TV Show</td>\n",
              "      <td>Zombie Dumb</td>\n",
              "      <td>NaN</td>\n",
              "      <td>NaN</td>\n",
              "      <td>NaN</td>\n",
              "      <td>July 1, 2019</td>\n",
              "      <td>2018</td>\n",
              "      <td>TV-Y7</td>\n",
              "      <td>2 Seasons</td>\n",
              "      <td>Kids' TV, Korean TV Shows, TV Comedies</td>\n",
              "      <td>While living alone in a spooky town, a young g...</td>\n",
              "    </tr>\n",
              "    <tr>\n",
              "      <th>8804</th>\n",
              "      <td>s8805</td>\n",
              "      <td>Movie</td>\n",
              "      <td>Zombieland</td>\n",
              "      <td>Ruben Fleischer</td>\n",
              "      <td>Jesse Eisenberg, Woody Harrelson, Emma Stone, ...</td>\n",
              "      <td>United States</td>\n",
              "      <td>November 1, 2019</td>\n",
              "      <td>2009</td>\n",
              "      <td>R</td>\n",
              "      <td>88 min</td>\n",
              "      <td>Comedies, Horror Movies</td>\n",
              "      <td>Looking to survive in a world taken over by zo...</td>\n",
              "    </tr>\n",
              "    <tr>\n",
              "      <th>8805</th>\n",
              "      <td>s8806</td>\n",
              "      <td>Movie</td>\n",
              "      <td>Zoom</td>\n",
              "      <td>Peter Hewitt</td>\n",
              "      <td>Tim Allen, Courteney Cox, Chevy Chase, Kate Ma...</td>\n",
              "      <td>United States</td>\n",
              "      <td>January 11, 2020</td>\n",
              "      <td>2006</td>\n",
              "      <td>PG</td>\n",
              "      <td>88 min</td>\n",
              "      <td>Children &amp; Family Movies, Comedies</td>\n",
              "      <td>Dragged from civilian life, a former superhero...</td>\n",
              "    </tr>\n",
              "    <tr>\n",
              "      <th>8806</th>\n",
              "      <td>s8807</td>\n",
              "      <td>Movie</td>\n",
              "      <td>Zubaan</td>\n",
              "      <td>Mozez Singh</td>\n",
              "      <td>Vicky Kaushal, Sarah-Jane Dias, Raaghav Chanan...</td>\n",
              "      <td>India</td>\n",
              "      <td>March 2, 2019</td>\n",
              "      <td>2015</td>\n",
              "      <td>TV-14</td>\n",
              "      <td>111 min</td>\n",
              "      <td>Dramas, International Movies, Music &amp; Musicals</td>\n",
              "      <td>A scrappy but poor boy worms his way into a ty...</td>\n",
              "    </tr>\n",
              "  </tbody>\n",
              "</table>\n",
              "<p>8807 rows × 12 columns</p>\n",
              "</div>"
            ],
            "text/plain": [
              "     show_id  ...                                        description\n",
              "0         s1  ...  As her father nears the end of his life, filmm...\n",
              "1         s2  ...  After crossing paths at a party, a Cape Town t...\n",
              "2         s3  ...  To protect his family from a powerful drug lor...\n",
              "3         s4  ...  Feuds, flirtations and toilet talk go down amo...\n",
              "4         s5  ...  In a city of coaching centers known to train I...\n",
              "...      ...  ...                                                ...\n",
              "8802   s8803  ...  A political cartoonist, a crime reporter and a...\n",
              "8803   s8804  ...  While living alone in a spooky town, a young g...\n",
              "8804   s8805  ...  Looking to survive in a world taken over by zo...\n",
              "8805   s8806  ...  Dragged from civilian life, a former superhero...\n",
              "8806   s8807  ...  A scrappy but poor boy worms his way into a ty...\n",
              "\n",
              "[8807 rows x 12 columns]"
            ]
          },
          "metadata": {},
          "execution_count": 122
        }
      ]
    },
    {
      "cell_type": "markdown",
      "metadata": {
        "id": "j3t8OFIrANou"
      },
      "source": [
        "shape of the dataset "
      ]
    },
    {
      "cell_type": "code",
      "metadata": {
        "id": "obZa2tZdAUmA",
        "colab": {
          "base_uri": "https://localhost:8080/"
        },
        "outputId": "4fc61e09-7f28-4218-bac1-3dce8d8c8dca"
      },
      "source": [
        "netflix.shape"
      ],
      "execution_count": 123,
      "outputs": [
        {
          "output_type": "execute_result",
          "data": {
            "text/plain": [
              "(8807, 12)"
            ]
          },
          "metadata": {},
          "execution_count": 123
        }
      ]
    },
    {
      "cell_type": "markdown",
      "metadata": {
        "id": "qarwhlZRAbiI"
      },
      "source": [
        "let us count the dataset"
      ]
    },
    {
      "cell_type": "code",
      "metadata": {
        "id": "oi2R8m1lAnrz",
        "colab": {
          "base_uri": "https://localhost:8080/"
        },
        "outputId": "7cf0cb3f-98e3-49de-9865-9e110b865890"
      },
      "source": [
        "netflix.count()"
      ],
      "execution_count": 124,
      "outputs": [
        {
          "output_type": "execute_result",
          "data": {
            "text/plain": [
              "show_id         8807\n",
              "type            8807\n",
              "title           8807\n",
              "director        6173\n",
              "cast            7982\n",
              "country         7976\n",
              "date_added      8797\n",
              "release_year    8807\n",
              "rating          8803\n",
              "duration        8804\n",
              "listed_in       8807\n",
              "description     8807\n",
              "dtype: int64"
            ]
          },
          "metadata": {},
          "execution_count": 124
        }
      ]
    },
    {
      "cell_type": "markdown",
      "metadata": {
        "id": "Sd2noM4wA_Qi"
      },
      "source": [
        "**SHOWS VS MOVIES**"
      ]
    },
    {
      "cell_type": "code",
      "metadata": {
        "id": "FM8sd6XTBLZI",
        "colab": {
          "base_uri": "https://localhost:8080/",
          "height": 696
        },
        "outputId": "002ed942-9b40-49ba-ae39-a2c13e78a9c1"
      },
      "source": [
        "netflix_shows = netflix[netflix['type']=='TV Shows']\n",
        "netflix_movies = netflix[netflix['type']=='Movie']\n",
        "#Time for visulization\n",
        "sns.set(style='darkgrid')\n",
        "ax = sns.countplot(x='type', data=netflix, palette='Set2')\n",
        "\n",
        "plt.figure(figsize=(7, 7))\n",
        "netflix['type'].value_counts().plot(kind='pie',autopct='%1.0f%%')"
      ],
      "execution_count": 125,
      "outputs": [
        {
          "output_type": "execute_result",
          "data": {
            "text/plain": [
              "<matplotlib.axes._subplots.AxesSubplot at 0x7fbb65c1b050>"
            ]
          },
          "metadata": {},
          "execution_count": 125
        },
        {
          "output_type": "display_data",
          "data": {
            "image/png": "[encoded data removed]",
            "text/plain": [
              "<Figure size 432x288 with 1 Axes>"
            ]
          },
          "metadata": {}
        },
        {
          "output_type": "display_data",
          "data": {
            "image/png": "[encoded data removed]",
            "text/plain": [
              "<Figure size 504x504 with 1 Axes>"
            ]
          },
          "metadata": {}
        }
      ]
    },
    {
      "cell_type": "markdown",
      "metadata": {
        "id": "PpokOUgJBT4I"
      },
      "source": [
        "**MOVIE RATING ANALYSIS**"
      ]
    },
    {
      "cell_type": "code",
      "metadata": {
        "id": "ug3mrXoLBhaF",
        "colab": {
          "base_uri": "https://localhost:8080/",
          "height": 611
        },
        "outputId": "65aba925-a753-4ab6-bbf3-97b5cd29d040"
      },
      "source": [
        "plt.figure(figsize=(12,10))\n",
        "sns.set(style=\"darkgrid\")\n",
        "ax = sns.countplot(x=\"rating\", data=netflix_movies, palette=\"Set2\", order=netflix_movies['rating'].value_counts().index[0:15])"
      ],
      "execution_count": 126,
      "outputs": [
        {
          "output_type": "display_data",
          "data": {
            "image/png": "[encoded data removed]",
            "text/plain": [
              "<Figure size 864x720 with 1 Axes>"
            ]
          },
          "metadata": {}
        }
      ]
    },
    {
      "cell_type": "markdown",
      "metadata": {
        "id": "3TX68nnnBm2f"
      },
      "source": [
        "The largest count of movies are made with the 'TV-MA' rating.\"TV-MA\" is a rating assigned by the TV Parental Guidelines to a television program that was designed for mature audiences only.\n",
        "\n",
        "Second largest is the 'TV-14' stands for content that may be inappropriate for children younger than 14 years of age."
      ]
    },
    {
      "cell_type": "markdown",
      "metadata": {
        "id": "oJkzWw1gCoy9"
      },
      "source": [
        "TOP 10 COUNTRIES WITH MOVIES AND SHOWS IN NETFLIX"
      ]
    },
    {
      "cell_type": "code",
      "metadata": {
        "id": "tnSruaSGBzNU",
        "colab": {
          "base_uri": "https://localhost:8080/",
          "height": 444
        },
        "outputId": "8914d474-944c-46c9-d9cc-991355b53a71"
      },
      "source": [
        "values = netflix['country'].value_counts()[:10].tolist()\n",
        "labels = netflix['country'].value_counts()[:10].index.tolist()\n",
        "plt.figure(figsize=(7, 7))\n",
        "plt.pie(values,labels=labels,autopct='%1.0f%%')\n",
        "plt.title('Top 10 countries with movies and tv shows')"
      ],
      "execution_count": 127,
      "outputs": [
        {
          "output_type": "execute_result",
          "data": {
            "text/plain": [
              "Text(0.5, 1.0, 'Top 10 countries with movies and tv shows')"
            ]
          },
          "metadata": {},
          "execution_count": 127
        },
        {
          "output_type": "display_data",
          "data": {
            "image/png": "[encoded data removed]",
            "text/plain": [
              "<Figure size 504x504 with 1 Axes>"
            ]
          },
          "metadata": {}
        }
      ]
    },
    {
      "cell_type": "markdown",
      "metadata": {
        "id": "G7xInHTWEa8p"
      },
      "source": [
        "CONTENT ADDED BY YEARS \n"
      ]
    },
    {
      "cell_type": "code",
      "metadata": {
        "id": "cHYHNp44EeJu",
        "colab": {
          "base_uri": "https://localhost:8080/"
        },
        "outputId": "8d70de21-cc0a-4f52-d144-0b4efe2cc798"
      },
      "source": [
        "netflix['rating'].value_counts()"
      ],
      "execution_count": 128,
      "outputs": [
        {
          "output_type": "execute_result",
          "data": {
            "text/plain": [
              "TV-MA       3207\n",
              "TV-14       2160\n",
              "TV-PG        863\n",
              "R            799\n",
              "PG-13        490\n",
              "TV-Y7        334\n",
              "TV-Y         307\n",
              "PG           287\n",
              "TV-G         220\n",
              "NR            80\n",
              "G             41\n",
              "TV-Y7-FV       6\n",
              "NC-17          3\n",
              "UR             3\n",
              "74 min         1\n",
              "84 min         1\n",
              "66 min         1\n",
              "Name: rating, dtype: int64"
            ]
          },
          "metadata": {},
          "execution_count": 128
        }
      ]
    },
    {
      "cell_type": "code",
      "metadata": {
        "id": "yJ_voL8_Tgb7"
      },
      "source": [
        "netflix['date_added'] = netflix['date_added'].fillna(netflix['date_added'].mode()[0])"
      ],
      "execution_count": 129,
      "outputs": []
    },
    {
      "cell_type": "code",
      "metadata": {
        "id": "J4od14UDTupA",
        "colab": {
          "base_uri": "https://localhost:8080/",
          "height": 203
        },
        "outputId": "2ae77108-2675-4271-ed8a-3e3eadf73154"
      },
      "source": [
        "date = pd.DataFrame(netflix['date_added'])\n",
        "added = date['date_added'].str.split(', ',expand = True)\n",
        "date['MD'] = added[0]\n",
        "date['Year'] = added[1]\n",
        "date.head()"
      ],
      "execution_count": 130,
      "outputs": [
        {
          "output_type": "execute_result",
          "data": {
            "text/html": [
              "<div>\n",
              "<style scoped>\n",
              "    .dataframe tbody tr th:only-of-type {\n",
              "        vertical-align: middle;\n",
              "    }\n",
              "\n",
              "    .dataframe tbody tr th {\n",
              "        vertical-align: top;\n",
              "    }\n",
              "\n",
              "    .dataframe thead th {\n",
              "        text-align: right;\n",
              "    }\n",
              "</style>\n",
              "<table border=\"1\" class=\"dataframe\">\n",
              "  <thead>\n",
              "    <tr style=\"text-align: right;\">\n",
              "      <th></th>\n",
              "      <th>date_added</th>\n",
              "      <th>MD</th>\n",
              "      <th>Year</th>\n",
              "    </tr>\n",
              "  </thead>\n",
              "  <tbody>\n",
              "    <tr>\n",
              "      <th>0</th>\n",
              "      <td>September 25, 2021</td>\n",
              "      <td>September 25</td>\n",
              "      <td>2021</td>\n",
              "    </tr>\n",
              "    <tr>\n",
              "      <th>1</th>\n",
              "      <td>September 24, 2021</td>\n",
              "      <td>September 24</td>\n",
              "      <td>2021</td>\n",
              "    </tr>\n",
              "    <tr>\n",
              "      <th>2</th>\n",
              "      <td>September 24, 2021</td>\n",
              "      <td>September 24</td>\n",
              "      <td>2021</td>\n",
              "    </tr>\n",
              "    <tr>\n",
              "      <th>3</th>\n",
              "      <td>September 24, 2021</td>\n",
              "      <td>September 24</td>\n",
              "      <td>2021</td>\n",
              "    </tr>\n",
              "    <tr>\n",
              "      <th>4</th>\n",
              "      <td>September 24, 2021</td>\n",
              "      <td>September 24</td>\n",
              "      <td>2021</td>\n",
              "    </tr>\n",
              "  </tbody>\n",
              "</table>\n",
              "</div>"
            ],
            "text/plain": [
              "           date_added            MD  Year\n",
              "0  September 25, 2021  September 25  2021\n",
              "1  September 24, 2021  September 24  2021\n",
              "2  September 24, 2021  September 24  2021\n",
              "3  September 24, 2021  September 24  2021\n",
              "4  September 24, 2021  September 24  2021"
            ]
          },
          "metadata": {},
          "execution_count": 130
        }
      ]
    },
    {
      "cell_type": "markdown",
      "metadata": {
        "id": "49Vg3n6VUUe-"
      },
      "source": [
        "year wise analysis"
      ]
    },
    {
      "cell_type": "code",
      "metadata": {
        "id": "IxTQ1cz0UWuO",
        "colab": {
          "base_uri": "https://localhost:8080/",
          "height": 611
        },
        "outputId": "995b86e3-c105-41f1-af46-ec6ad7c9d438"
      },
      "source": [
        "plt.figure(figsize=(12,10))\n",
        "sns.set(style='darkgrid')\n",
        "ax = sns.countplot(y='release_year', data=netflix_movies, palette='Set2', order=netflix_movies['release_year'].value_counts().index[0:15])"
      ],
      "execution_count": 131,
      "outputs": [
        {
          "output_type": "display_data",
          "data": {
            "image/png": "[encoded data removed]",
            "text/plain": [
              "<Figure size 864x720 with 1 Axes>"
            ]
          },
          "metadata": {}
        }
      ]
    },
    {
      "cell_type": "markdown",
      "metadata": {
        "id": "VvlT0C3GUikP"
      },
      "source": [
        "top 10 content creating countries\n",
        "\n",
        "> Indented block\n",
        "\n"
      ]
    },
    {
      "cell_type": "code",
      "metadata": {
        "id": "70QW3IL-UyHj",
        "colab": {
          "base_uri": "https://localhost:8080/"
        },
        "outputId": "6c6148ff-14f1-4663-f737-3224bff53ec4"
      },
      "source": [
        "countries={}\n",
        "netflix_movies['country']=netflix_movies['country'].fillna('Unknown')\n",
        "cou=list(netflix_movies['country'])\n",
        "for i in cou:\n",
        "    #print(i)\n",
        "    i=list(i.split(','))\n",
        "    if len(i)==1:\n",
        "        if i in list(countries.keys()):\n",
        "            countries[i]+=1\n",
        "        else:\n",
        "            countries[i[0]]=1\n",
        "    else:\n",
        "        for j in i:\n",
        "            if j in list(countries.keys()):\n",
        "                countries[j]+=1\n",
        "            else:\n",
        "                countries[j]=1\n",
        "countries_fin={}\n",
        "for country,no in countries.items():\n",
        "    country=country.replace(' ','')\n",
        "    if country in list(countries_fin.keys()):\n",
        "        countries_fin[country]+=no\n",
        "    else:\n",
        "        countries_fin[country]=no\n",
        "        \n",
        "countries_fin={k: v for k, v in sorted(countries_fin.items(), key=lambda item: item[1], reverse= True)}"
      ],
      "execution_count": 132,
      "outputs": [
        {
          "output_type": "stream",
          "name": "stderr",
          "text": [
            "/usr/local/lib/python3.7/dist-packages/ipykernel_launcher.py:2: SettingWithCopyWarning: \n",
            "A value is trying to be set on a copy of a slice from a DataFrame.\n",
            "Try using .loc[row_indexer,col_indexer] = value instead\n",
            "\n",
            "See the caveats in the documentation: https://pandas.pydata.org/pandas-docs/stable/user_guide/indexing.html#returning-a-view-versus-a-copy\n",
            "  \n"
          ]
        }
      ]
    },
    {
      "cell_type": "code",
      "metadata": {
        "id": "wY2t42glVBRQ",
        "colab": {
          "base_uri": "https://localhost:8080/",
          "height": 729
        },
        "outputId": "d63907c7-b7eb-44f3-ca87-9e27ca9db451"
      },
      "source": [
        "plt.figure(figsize=(8,8))\n",
        "ax = sns.barplot(x=list(countries_fin.keys())[0:10],y=list(countries_fin.values())[0:10])\n",
        "ax.set_xticklabels(list(countries_fin.keys())[0:10],rotation = 90)"
      ],
      "execution_count": 133,
      "outputs": [
        {
          "output_type": "execute_result",
          "data": {
            "text/plain": [
              "[Text(0, 0, 'UnitedStates'),\n",
              " Text(0, 0, 'France'),\n",
              " Text(0, 0, 'UnitedKingdom'),\n",
              " Text(0, 0, 'Canada'),\n",
              " Text(0, 0, 'Germany'),\n",
              " Text(0, 0, 'Belgium'),\n",
              " Text(0, 0, 'China'),\n",
              " Text(0, 0, 'Spain'),\n",
              " Text(0, 0, 'Japan'),\n",
              " Text(0, 0, 'India')]"
            ]
          },
          "metadata": {},
          "execution_count": 133
        },
        {
          "output_type": "display_data",
          "data": {
            "image/png": "[encoded data removed]",
            "text/plain": [
              "<Figure size 576x576 with 1 Axes>"
            ]
          },
          "metadata": {}
        }
      ]
    },
    {
      "cell_type": "markdown",
      "metadata": {
        "id": "Z7ncSIEyVh6c"
      },
      "source": [
        "DATA CLEANING"
      ]
    },
    {
      "cell_type": "code",
      "metadata": {
        "id": "SKdgFeAcWXJe",
        "colab": {
          "base_uri": "https://localhost:8080/"
        },
        "outputId": "252c5f8b-581b-40d1-8b9c-31c56de77a25"
      },
      "source": [
        "netflix.isnull().sum()"
      ],
      "execution_count": 134,
      "outputs": [
        {
          "output_type": "execute_result",
          "data": {
            "text/plain": [
              "show_id            0\n",
              "type               0\n",
              "title              0\n",
              "director        2634\n",
              "cast             825\n",
              "country          831\n",
              "date_added         0\n",
              "release_year       0\n",
              "rating             4\n",
              "duration           3\n",
              "listed_in          0\n",
              "description        0\n",
              "dtype: int64"
            ]
          },
          "metadata": {},
          "execution_count": 134
        }
      ]
    },
    {
      "cell_type": "markdown",
      "metadata": {
        "id": "_3qWGUDEXMU-"
      },
      "source": [
        "if the null value is not in NAN format the python does not consider it as none values. so the below code is used to handle that type of situations..."
      ]
    },
    {
      "cell_type": "code",
      "metadata": {
        "id": "1fc4XOs9XfqG",
        "colab": {
          "base_uri": "https://localhost:8080/"
        },
        "outputId": "7e48ab76-0e20-4215-a388-6d21e8b50b01"
      },
      "source": [
        "missing_values = ['Na','n/a','NA']\n",
        "netflix = pd.read_csv('/content/netflix_titles.csv',na_values=missing_values)\n",
        "netflix.isnull().sum()"
      ],
      "execution_count": 135,
      "outputs": [
        {
          "output_type": "execute_result",
          "data": {
            "text/plain": [
              "show_id            0\n",
              "type               0\n",
              "title              0\n",
              "director        2634\n",
              "cast             825\n",
              "country          831\n",
              "date_added        10\n",
              "release_year       0\n",
              "rating             4\n",
              "duration           3\n",
              "listed_in          0\n",
              "description        0\n",
              "dtype: int64"
            ]
          },
          "metadata": {},
          "execution_count": 135
        }
      ]
    },
    {
      "cell_type": "markdown",
      "metadata": {
        "id": "tOlcLMLPZ0I0"
      },
      "source": [
        "showing null values in a heat map"
      ]
    },
    {
      "cell_type": "code",
      "metadata": {
        "id": "qhbJfUeOZ34r",
        "colab": {
          "base_uri": "https://localhost:8080/",
          "height": 350
        },
        "outputId": "a02d8fe0-bc7e-418a-f679-969fe42483bf"
      },
      "source": [
        "sns.heatmap(netflix.isnull(), yticklabels=False)"
      ],
      "execution_count": 136,
      "outputs": [
        {
          "output_type": "execute_result",
          "data": {
            "text/plain": [
              "<matplotlib.axes._subplots.AxesSubplot at 0x7fbb6091e690>"
            ]
          },
          "metadata": {},
          "execution_count": 136
        },
        {
          "output_type": "display_data",
          "data": {
            "image/png": "[encoded data removed]",
            "text/plain": [
              "<Figure size 432x288 with 2 Axes>"
            ]
          },
          "metadata": {}
        }
      ]
    },
    {
      "cell_type": "markdown",
      "metadata": {
        "id": "-0P5yQj3bJGn"
      },
      "source": [
        "removing the missing values"
      ]
    },
    {
      "cell_type": "code",
      "metadata": {
        "id": "LmULnxFdcPjt",
        "colab": {
          "base_uri": "https://localhost:8080/"
        },
        "outputId": "117163f8-4db9-4355-e76e-c56cff40575d"
      },
      "source": [
        "netflix.dropna"
      ],
      "execution_count": 137,
      "outputs": [
        {
          "output_type": "execute_result",
          "data": {
            "text/plain": [
              "<bound method DataFrame.dropna of      show_id  ...                                        description\n",
              "0         s1  ...  As her father nears the end of his life, filmm...\n",
              "1         s2  ...  After crossing paths at a party, a Cape Town t...\n",
              "2         s3  ...  To protect his family from a powerful drug lor...\n",
              "3         s4  ...  Feuds, flirtations and toilet talk go down amo...\n",
              "4         s5  ...  In a city of coaching centers known to train I...\n",
              "...      ...  ...                                                ...\n",
              "8802   s8803  ...  A political cartoonist, a crime reporter and a...\n",
              "8803   s8804  ...  While living alone in a spooky town, a young g...\n",
              "8804   s8805  ...  Looking to survive in a world taken over by zo...\n",
              "8805   s8806  ...  Dragged from civilian life, a former superhero...\n",
              "8806   s8807  ...  A scrappy but poor boy worms his way into a ty...\n",
              "\n",
              "[8807 rows x 12 columns]>"
            ]
          },
          "metadata": {},
          "execution_count": 137
        }
      ]
    },
    {
      "cell_type": "markdown",
      "metadata": {
        "id": "p-ezy2Rocbdt"
      },
      "source": [
        "fill the missing values with 0"
      ]
    },
    {
      "cell_type": "code",
      "metadata": {
        "id": "141qfEthcbBY",
        "colab": {
          "base_uri": "https://localhost:8080/",
          "height": 938
        },
        "outputId": "8a6e1f88-b567-4db5-e34c-97d8985531d2"
      },
      "source": [
        "netflix.fillna(0)"
      ],
      "execution_count": 138,
      "outputs": [
        {
          "output_type": "execute_result",
          "data": {
            "text/html": [
              "<div>\n",
              "<style scoped>\n",
              "    .dataframe tbody tr th:only-of-type {\n",
              "        vertical-align: middle;\n",
              "    }\n",
              "\n",
              "    .dataframe tbody tr th {\n",
              "        vertical-align: top;\n",
              "    }\n",
              "\n",
              "    .dataframe thead th {\n",
              "        text-align: right;\n",
              "    }\n",
              "</style>\n",
              "<table border=\"1\" class=\"dataframe\">\n",
              "  <thead>\n",
              "    <tr style=\"text-align: right;\">\n",
              "      <th></th>\n",
              "      <th>show_id</th>\n",
              "      <th>type</th>\n",
              "      <th>title</th>\n",
              "      <th>director</th>\n",
              "      <th>cast</th>\n",
              "      <th>country</th>\n",
              "      <th>date_added</th>\n",
              "      <th>release_year</th>\n",
              "      <th>rating</th>\n",
              "      <th>duration</th>\n",
              "      <th>listed_in</th>\n",
              "      <th>description</th>\n",
              "    </tr>\n",
              "  </thead>\n",
              "  <tbody>\n",
              "    <tr>\n",
              "      <th>0</th>\n",
              "      <td>s1</td>\n",
              "      <td>Movie</td>\n",
              "      <td>Dick Johnson Is Dead</td>\n",
              "      <td>Kirsten Johnson</td>\n",
              "      <td>0</td>\n",
              "      <td>United States</td>\n",
              "      <td>September 25, 2021</td>\n",
              "      <td>2020</td>\n",
              "      <td>PG-13</td>\n",
              "      <td>90 min</td>\n",
              "      <td>Documentaries</td>\n",
              "      <td>As her father nears the end of his life, filmm...</td>\n",
              "    </tr>\n",
              "    <tr>\n",
              "      <th>1</th>\n",
              "      <td>s2</td>\n",
              "      <td>TV Show</td>\n",
              "      <td>Blood &amp; Water</td>\n",
              "      <td>0</td>\n",
              "      <td>Ama Qamata, Khosi Ngema, Gail Mabalane, Thaban...</td>\n",
              "      <td>South Africa</td>\n",
              "      <td>September 24, 2021</td>\n",
              "      <td>2021</td>\n",
              "      <td>TV-MA</td>\n",
              "      <td>2 Seasons</td>\n",
              "      <td>International TV Shows, TV Dramas, TV Mysteries</td>\n",
              "      <td>After crossing paths at a party, a Cape Town t...</td>\n",
              "    </tr>\n",
              "    <tr>\n",
              "      <th>2</th>\n",
              "      <td>s3</td>\n",
              "      <td>TV Show</td>\n",
              "      <td>Ganglands</td>\n",
              "      <td>Julien Leclercq</td>\n",
              "      <td>Sami Bouajila, Tracy Gotoas, Samuel Jouy, Nabi...</td>\n",
              "      <td>0</td>\n",
              "      <td>September 24, 2021</td>\n",
              "      <td>2021</td>\n",
              "      <td>TV-MA</td>\n",
              "      <td>1 Season</td>\n",
              "      <td>Crime TV Shows, International TV Shows, TV Act...</td>\n",
              "      <td>To protect his family from a powerful drug lor...</td>\n",
              "    </tr>\n",
              "    <tr>\n",
              "      <th>3</th>\n",
              "      <td>s4</td>\n",
              "      <td>TV Show</td>\n",
              "      <td>Jailbirds New Orleans</td>\n",
              "      <td>0</td>\n",
              "      <td>0</td>\n",
              "      <td>0</td>\n",
              "      <td>September 24, 2021</td>\n",
              "      <td>2021</td>\n",
              "      <td>TV-MA</td>\n",
              "      <td>1 Season</td>\n",
              "      <td>Docuseries, Reality TV</td>\n",
              "      <td>Feuds, flirtations and toilet talk go down amo...</td>\n",
              "    </tr>\n",
              "    <tr>\n",
              "      <th>4</th>\n",
              "      <td>s5</td>\n",
              "      <td>TV Show</td>\n",
              "      <td>Kota Factory</td>\n",
              "      <td>0</td>\n",
              "      <td>Mayur More, Jitendra Kumar, Ranjan Raj, Alam K...</td>\n",
              "      <td>India</td>\n",
              "      <td>September 24, 2021</td>\n",
              "      <td>2021</td>\n",
              "      <td>TV-MA</td>\n",
              "      <td>2 Seasons</td>\n",
              "      <td>International TV Shows, Romantic TV Shows, TV ...</td>\n",
              "      <td>In a city of coaching centers known to train I...</td>\n",
              "    </tr>\n",
              "    <tr>\n",
              "      <th>...</th>\n",
              "      <td>...</td>\n",
              "      <td>...</td>\n",
              "      <td>...</td>\n",
              "      <td>...</td>\n",
              "      <td>...</td>\n",
              "      <td>...</td>\n",
              "      <td>...</td>\n",
              "      <td>...</td>\n",
              "      <td>...</td>\n",
              "      <td>...</td>\n",
              "      <td>...</td>\n",
              "      <td>...</td>\n",
              "    </tr>\n",
              "    <tr>\n",
              "      <th>8802</th>\n",
              "      <td>s8803</td>\n",
              "      <td>Movie</td>\n",
              "      <td>Zodiac</td>\n",
              "      <td>David Fincher</td>\n",
              "      <td>Mark Ruffalo, Jake Gyllenhaal, Robert Downey J...</td>\n",
              "      <td>United States</td>\n",
              "      <td>November 20, 2019</td>\n",
              "      <td>2007</td>\n",
              "      <td>R</td>\n",
              "      <td>158 min</td>\n",
              "      <td>Cult Movies, Dramas, Thrillers</td>\n",
              "      <td>A political cartoonist, a crime reporter and a...</td>\n",
              "    </tr>\n",
              "    <tr>\n",
              "      <th>8803</th>\n",
              "      <td>s8804</td>\n",
              "      <td>TV Show</td>\n",
              "      <td>Zombie Dumb</td>\n",
              "      <td>0</td>\n",
              "      <td>0</td>\n",
              "      <td>0</td>\n",
              "      <td>July 1, 2019</td>\n",
              "      <td>2018</td>\n",
              "      <td>TV-Y7</td>\n",
              "      <td>2 Seasons</td>\n",
              "      <td>Kids' TV, Korean TV Shows, TV Comedies</td>\n",
              "      <td>While living alone in a spooky town, a young g...</td>\n",
              "    </tr>\n",
              "    <tr>\n",
              "      <th>8804</th>\n",
              "      <td>s8805</td>\n",
              "      <td>Movie</td>\n",
              "      <td>Zombieland</td>\n",
              "      <td>Ruben Fleischer</td>\n",
              "      <td>Jesse Eisenberg, Woody Harrelson, Emma Stone, ...</td>\n",
              "      <td>United States</td>\n",
              "      <td>November 1, 2019</td>\n",
              "      <td>2009</td>\n",
              "      <td>R</td>\n",
              "      <td>88 min</td>\n",
              "      <td>Comedies, Horror Movies</td>\n",
              "      <td>Looking to survive in a world taken over by zo...</td>\n",
              "    </tr>\n",
              "    <tr>\n",
              "      <th>8805</th>\n",
              "      <td>s8806</td>\n",
              "      <td>Movie</td>\n",
              "      <td>Zoom</td>\n",
              "      <td>Peter Hewitt</td>\n",
              "      <td>Tim Allen, Courteney Cox, Chevy Chase, Kate Ma...</td>\n",
              "      <td>United States</td>\n",
              "      <td>January 11, 2020</td>\n",
              "      <td>2006</td>\n",
              "      <td>PG</td>\n",
              "      <td>88 min</td>\n",
              "      <td>Children &amp; Family Movies, Comedies</td>\n",
              "      <td>Dragged from civilian life, a former superhero...</td>\n",
              "    </tr>\n",
              "    <tr>\n",
              "      <th>8806</th>\n",
              "      <td>s8807</td>\n",
              "      <td>Movie</td>\n",
              "      <td>Zubaan</td>\n",
              "      <td>Mozez Singh</td>\n",
              "      <td>Vicky Kaushal, Sarah-Jane Dias, Raaghav Chanan...</td>\n",
              "      <td>India</td>\n",
              "      <td>March 2, 2019</td>\n",
              "      <td>2015</td>\n",
              "      <td>TV-14</td>\n",
              "      <td>111 min</td>\n",
              "      <td>Dramas, International Movies, Music &amp; Musicals</td>\n",
              "      <td>A scrappy but poor boy worms his way into a ty...</td>\n",
              "    </tr>\n",
              "  </tbody>\n",
              "</table>\n",
              "<p>8807 rows × 12 columns</p>\n",
              "</div>"
            ],
            "text/plain": [
              "     show_id  ...                                        description\n",
              "0         s1  ...  As her father nears the end of his life, filmm...\n",
              "1         s2  ...  After crossing paths at a party, a Cape Town t...\n",
              "2         s3  ...  To protect his family from a powerful drug lor...\n",
              "3         s4  ...  Feuds, flirtations and toilet talk go down amo...\n",
              "4         s5  ...  In a city of coaching centers known to train I...\n",
              "...      ...  ...                                                ...\n",
              "8802   s8803  ...  A political cartoonist, a crime reporter and a...\n",
              "8803   s8804  ...  While living alone in a spooky town, a young g...\n",
              "8804   s8805  ...  Looking to survive in a world taken over by zo...\n",
              "8805   s8806  ...  Dragged from civilian life, a former superhero...\n",
              "8806   s8807  ...  A scrappy but poor boy worms his way into a ty...\n",
              "\n",
              "[8807 rows x 12 columns]"
            ]
          },
          "metadata": {},
          "execution_count": 138
        }
      ]
    },
    {
      "cell_type": "markdown",
      "metadata": {
        "id": "NVoyFRr0ct3T"
      },
      "source": [
        "but filling every none value with zero is not correct lets find a new method..."
      ]
    },
    {
      "cell_type": "code",
      "metadata": {
        "id": "VkXsIto-cYpu",
        "colab": {
          "base_uri": "https://localhost:8080/",
          "height": 971
        },
        "outputId": "bf0c98de-4db6-4421-abbf-899278f49d3f"
      },
      "source": [
        "netflix.fillna(method='ffill')"
      ],
      "execution_count": 139,
      "outputs": [
        {
          "output_type": "execute_result",
          "data": {
            "text/html": [
              "<div>\n",
              "<style scoped>\n",
              "    .dataframe tbody tr th:only-of-type {\n",
              "        vertical-align: middle;\n",
              "    }\n",
              "\n",
              "    .dataframe tbody tr th {\n",
              "        vertical-align: top;\n",
              "    }\n",
              "\n",
              "    .dataframe thead th {\n",
              "        text-align: right;\n",
              "    }\n",
              "</style>\n",
              "<table border=\"1\" class=\"dataframe\">\n",
              "  <thead>\n",
              "    <tr style=\"text-align: right;\">\n",
              "      <th></th>\n",
              "      <th>show_id</th>\n",
              "      <th>type</th>\n",
              "      <th>title</th>\n",
              "      <th>director</th>\n",
              "      <th>cast</th>\n",
              "      <th>country</th>\n",
              "      <th>date_added</th>\n",
              "      <th>release_year</th>\n",
              "      <th>rating</th>\n",
              "      <th>duration</th>\n",
              "      <th>listed_in</th>\n",
              "      <th>description</th>\n",
              "    </tr>\n",
              "  </thead>\n",
              "  <tbody>\n",
              "    <tr>\n",
              "      <th>0</th>\n",
              "      <td>s1</td>\n",
              "      <td>Movie</td>\n",
              "      <td>Dick Johnson Is Dead</td>\n",
              "      <td>Kirsten Johnson</td>\n",
              "      <td>NaN</td>\n",
              "      <td>United States</td>\n",
              "      <td>September 25, 2021</td>\n",
              "      <td>2020</td>\n",
              "      <td>PG-13</td>\n",
              "      <td>90 min</td>\n",
              "      <td>Documentaries</td>\n",
              "      <td>As her father nears the end of his life, filmm...</td>\n",
              "    </tr>\n",
              "    <tr>\n",
              "      <th>1</th>\n",
              "      <td>s2</td>\n",
              "      <td>TV Show</td>\n",
              "      <td>Blood &amp; Water</td>\n",
              "      <td>Kirsten Johnson</td>\n",
              "      <td>Ama Qamata, Khosi Ngema, Gail Mabalane, Thaban...</td>\n",
              "      <td>South Africa</td>\n",
              "      <td>September 24, 2021</td>\n",
              "      <td>2021</td>\n",
              "      <td>TV-MA</td>\n",
              "      <td>2 Seasons</td>\n",
              "      <td>International TV Shows, TV Dramas, TV Mysteries</td>\n",
              "      <td>After crossing paths at a party, a Cape Town t...</td>\n",
              "    </tr>\n",
              "    <tr>\n",
              "      <th>2</th>\n",
              "      <td>s3</td>\n",
              "      <td>TV Show</td>\n",
              "      <td>Ganglands</td>\n",
              "      <td>Julien Leclercq</td>\n",
              "      <td>Sami Bouajila, Tracy Gotoas, Samuel Jouy, Nabi...</td>\n",
              "      <td>South Africa</td>\n",
              "      <td>September 24, 2021</td>\n",
              "      <td>2021</td>\n",
              "      <td>TV-MA</td>\n",
              "      <td>1 Season</td>\n",
              "      <td>Crime TV Shows, International TV Shows, TV Act...</td>\n",
              "      <td>To protect his family from a powerful drug lor...</td>\n",
              "    </tr>\n",
              "    <tr>\n",
              "      <th>3</th>\n",
              "      <td>s4</td>\n",
              "      <td>TV Show</td>\n",
              "      <td>Jailbirds New Orleans</td>\n",
              "      <td>Julien Leclercq</td>\n",
              "      <td>Sami Bouajila, Tracy Gotoas, Samuel Jouy, Nabi...</td>\n",
              "      <td>South Africa</td>\n",
              "      <td>September 24, 2021</td>\n",
              "      <td>2021</td>\n",
              "      <td>TV-MA</td>\n",
              "      <td>1 Season</td>\n",
              "      <td>Docuseries, Reality TV</td>\n",
              "      <td>Feuds, flirtations and toilet talk go down amo...</td>\n",
              "    </tr>\n",
              "    <tr>\n",
              "      <th>4</th>\n",
              "      <td>s5</td>\n",
              "      <td>TV Show</td>\n",
              "      <td>Kota Factory</td>\n",
              "      <td>Julien Leclercq</td>\n",
              "      <td>Mayur More, Jitendra Kumar, Ranjan Raj, Alam K...</td>\n",
              "      <td>India</td>\n",
              "      <td>September 24, 2021</td>\n",
              "      <td>2021</td>\n",
              "      <td>TV-MA</td>\n",
              "      <td>2 Seasons</td>\n",
              "      <td>International TV Shows, Romantic TV Shows, TV ...</td>\n",
              "      <td>In a city of coaching centers known to train I...</td>\n",
              "    </tr>\n",
              "    <tr>\n",
              "      <th>...</th>\n",
              "      <td>...</td>\n",
              "      <td>...</td>\n",
              "      <td>...</td>\n",
              "      <td>...</td>\n",
              "      <td>...</td>\n",
              "      <td>...</td>\n",
              "      <td>...</td>\n",
              "      <td>...</td>\n",
              "      <td>...</td>\n",
              "      <td>...</td>\n",
              "      <td>...</td>\n",
              "      <td>...</td>\n",
              "    </tr>\n",
              "    <tr>\n",
              "      <th>8802</th>\n",
              "      <td>s8803</td>\n",
              "      <td>Movie</td>\n",
              "      <td>Zodiac</td>\n",
              "      <td>David Fincher</td>\n",
              "      <td>Mark Ruffalo, Jake Gyllenhaal, Robert Downey J...</td>\n",
              "      <td>United States</td>\n",
              "      <td>November 20, 2019</td>\n",
              "      <td>2007</td>\n",
              "      <td>R</td>\n",
              "      <td>158 min</td>\n",
              "      <td>Cult Movies, Dramas, Thrillers</td>\n",
              "      <td>A political cartoonist, a crime reporter and a...</td>\n",
              "    </tr>\n",
              "    <tr>\n",
              "      <th>8803</th>\n",
              "      <td>s8804</td>\n",
              "      <td>TV Show</td>\n",
              "      <td>Zombie Dumb</td>\n",
              "      <td>David Fincher</td>\n",
              "      <td>Mark Ruffalo, Jake Gyllenhaal, Robert Downey J...</td>\n",
              "      <td>United States</td>\n",
              "      <td>July 1, 2019</td>\n",
              "      <td>2018</td>\n",
              "      <td>TV-Y7</td>\n",
              "      <td>2 Seasons</td>\n",
              "      <td>Kids' TV, Korean TV Shows, TV Comedies</td>\n",
              "      <td>While living alone in a spooky town, a young g...</td>\n",
              "    </tr>\n",
              "    <tr>\n",
              "      <th>8804</th>\n",
              "      <td>s8805</td>\n",
              "      <td>Movie</td>\n",
              "      <td>Zombieland</td>\n",
              "      <td>Ruben Fleischer</td>\n",
              "      <td>Jesse Eisenberg, Woody Harrelson, Emma Stone, ...</td>\n",
              "      <td>United States</td>\n",
              "      <td>November 1, 2019</td>\n",
              "      <td>2009</td>\n",
              "      <td>R</td>\n",
              "      <td>88 min</td>\n",
              "      <td>Comedies, Horror Movies</td>\n",
              "      <td>Looking to survive in a world taken over by zo...</td>\n",
              "    </tr>\n",
              "    <tr>\n",
              "      <th>8805</th>\n",
              "      <td>s8806</td>\n",
              "      <td>Movie</td>\n",
              "      <td>Zoom</td>\n",
              "      <td>Peter Hewitt</td>\n",
              "      <td>Tim Allen, Courteney Cox, Chevy Chase, Kate Ma...</td>\n",
              "      <td>United States</td>\n",
              "      <td>January 11, 2020</td>\n",
              "      <td>2006</td>\n",
              "      <td>PG</td>\n",
              "      <td>88 min</td>\n",
              "      <td>Children &amp; Family Movies, Comedies</td>\n",
              "      <td>Dragged from civilian life, a former superhero...</td>\n",
              "    </tr>\n",
              "    <tr>\n",
              "      <th>8806</th>\n",
              "      <td>s8807</td>\n",
              "      <td>Movie</td>\n",
              "      <td>Zubaan</td>\n",
              "      <td>Mozez Singh</td>\n",
              "      <td>Vicky Kaushal, Sarah-Jane Dias, Raaghav Chanan...</td>\n",
              "      <td>India</td>\n",
              "      <td>March 2, 2019</td>\n",
              "      <td>2015</td>\n",
              "      <td>TV-14</td>\n",
              "      <td>111 min</td>\n",
              "      <td>Dramas, International Movies, Music &amp; Musicals</td>\n",
              "      <td>A scrappy but poor boy worms his way into a ty...</td>\n",
              "    </tr>\n",
              "  </tbody>\n",
              "</table>\n",
              "<p>8807 rows × 12 columns</p>\n",
              "</div>"
            ],
            "text/plain": [
              "     show_id  ...                                        description\n",
              "0         s1  ...  As her father nears the end of his life, filmm...\n",
              "1         s2  ...  After crossing paths at a party, a Cape Town t...\n",
              "2         s3  ...  To protect his family from a powerful drug lor...\n",
              "3         s4  ...  Feuds, flirtations and toilet talk go down amo...\n",
              "4         s5  ...  In a city of coaching centers known to train I...\n",
              "...      ...  ...                                                ...\n",
              "8802   s8803  ...  A political cartoonist, a crime reporter and a...\n",
              "8803   s8804  ...  While living alone in a spooky town, a young g...\n",
              "8804   s8805  ...  Looking to survive in a world taken over by zo...\n",
              "8805   s8806  ...  Dragged from civilian life, a former superhero...\n",
              "8806   s8807  ...  A scrappy but poor boy worms his way into a ty...\n",
              "\n",
              "[8807 rows x 12 columns]"
            ]
          },
          "metadata": {},
          "execution_count": 139
        }
      ]
    },
    {
      "cell_type": "markdown",
      "metadata": {
        "id": "hqXqNdPJdS1L"
      },
      "source": [
        "it is also not a convinient method to solve the above issue but it is the better one \n",
        "another method that is interpolate which means average"
      ]
    },
    {
      "cell_type": "code",
      "metadata": {
        "id": "HO_lFCe3dZbq",
        "colab": {
          "base_uri": "https://localhost:8080/",
          "height": 938
        },
        "outputId": "209bba06-53d9-4d57-f03e-3419e17768c1"
      },
      "source": [
        "netflix.interpolate()"
      ],
      "execution_count": 140,
      "outputs": [
        {
          "output_type": "execute_result",
          "data": {
            "text/html": [
              "<div>\n",
              "<style scoped>\n",
              "    .dataframe tbody tr th:only-of-type {\n",
              "        vertical-align: middle;\n",
              "    }\n",
              "\n",
              "    .dataframe tbody tr th {\n",
              "        vertical-align: top;\n",
              "    }\n",
              "\n",
              "    .dataframe thead th {\n",
              "        text-align: right;\n",
              "    }\n",
              "</style>\n",
              "<table border=\"1\" class=\"dataframe\">\n",
              "  <thead>\n",
              "    <tr style=\"text-align: right;\">\n",
              "      <th></th>\n",
              "      <th>show_id</th>\n",
              "      <th>type</th>\n",
              "      <th>title</th>\n",
              "      <th>director</th>\n",
              "      <th>cast</th>\n",
              "      <th>country</th>\n",
              "      <th>date_added</th>\n",
              "      <th>release_year</th>\n",
              "      <th>rating</th>\n",
              "      <th>duration</th>\n",
              "      <th>listed_in</th>\n",
              "      <th>description</th>\n",
              "    </tr>\n",
              "  </thead>\n",
              "  <tbody>\n",
              "    <tr>\n",
              "      <th>0</th>\n",
              "      <td>s1</td>\n",
              "      <td>Movie</td>\n",
              "      <td>Dick Johnson Is Dead</td>\n",
              "      <td>Kirsten Johnson</td>\n",
              "      <td>NaN</td>\n",
              "      <td>United States</td>\n",
              "      <td>September 25, 2021</td>\n",
              "      <td>2020</td>\n",
              "      <td>PG-13</td>\n",
              "      <td>90 min</td>\n",
              "      <td>Documentaries</td>\n",
              "      <td>As her father nears the end of his life, filmm...</td>\n",
              "    </tr>\n",
              "    <tr>\n",
              "      <th>1</th>\n",
              "      <td>s2</td>\n",
              "      <td>TV Show</td>\n",
              "      <td>Blood &amp; Water</td>\n",
              "      <td>NaN</td>\n",
              "      <td>Ama Qamata, Khosi Ngema, Gail Mabalane, Thaban...</td>\n",
              "      <td>South Africa</td>\n",
              "      <td>September 24, 2021</td>\n",
              "      <td>2021</td>\n",
              "      <td>TV-MA</td>\n",
              "      <td>2 Seasons</td>\n",
              "      <td>International TV Shows, TV Dramas, TV Mysteries</td>\n",
              "      <td>After crossing paths at a party, a Cape Town t...</td>\n",
              "    </tr>\n",
              "    <tr>\n",
              "      <th>2</th>\n",
              "      <td>s3</td>\n",
              "      <td>TV Show</td>\n",
              "      <td>Ganglands</td>\n",
              "      <td>Julien Leclercq</td>\n",
              "      <td>Sami Bouajila, Tracy Gotoas, Samuel Jouy, Nabi...</td>\n",
              "      <td>NaN</td>\n",
              "      <td>September 24, 2021</td>\n",
              "      <td>2021</td>\n",
              "      <td>TV-MA</td>\n",
              "      <td>1 Season</td>\n",
              "      <td>Crime TV Shows, International TV Shows, TV Act...</td>\n",
              "      <td>To protect his family from a powerful drug lor...</td>\n",
              "    </tr>\n",
              "    <tr>\n",
              "      <th>3</th>\n",
              "      <td>s4</td>\n",
              "      <td>TV Show</td>\n",
              "      <td>Jailbirds New Orleans</td>\n",
              "      <td>NaN</td>\n",
              "      <td>NaN</td>\n",
              "      <td>NaN</td>\n",
              "      <td>September 24, 2021</td>\n",
              "      <td>2021</td>\n",
              "      <td>TV-MA</td>\n",
              "      <td>1 Season</td>\n",
              "      <td>Docuseries, Reality TV</td>\n",
              "      <td>Feuds, flirtations and toilet talk go down amo...</td>\n",
              "    </tr>\n",
              "    <tr>\n",
              "      <th>4</th>\n",
              "      <td>s5</td>\n",
              "      <td>TV Show</td>\n",
              "      <td>Kota Factory</td>\n",
              "      <td>NaN</td>\n",
              "      <td>Mayur More, Jitendra Kumar, Ranjan Raj, Alam K...</td>\n",
              "      <td>India</td>\n",
              "      <td>September 24, 2021</td>\n",
              "      <td>2021</td>\n",
              "      <td>TV-MA</td>\n",
              "      <td>2 Seasons</td>\n",
              "      <td>International TV Shows, Romantic TV Shows, TV ...</td>\n",
              "      <td>In a city of coaching centers known to train I...</td>\n",
              "    </tr>\n",
              "    <tr>\n",
              "      <th>...</th>\n",
              "      <td>...</td>\n",
              "      <td>...</td>\n",
              "      <td>...</td>\n",
              "      <td>...</td>\n",
              "      <td>...</td>\n",
              "      <td>...</td>\n",
              "      <td>...</td>\n",
              "      <td>...</td>\n",
              "      <td>...</td>\n",
              "      <td>...</td>\n",
              "      <td>...</td>\n",
              "      <td>...</td>\n",
              "    </tr>\n",
              "    <tr>\n",
              "      <th>8802</th>\n",
              "      <td>s8803</td>\n",
              "      <td>Movie</td>\n",
              "      <td>Zodiac</td>\n",
              "      <td>David Fincher</td>\n",
              "      <td>Mark Ruffalo, Jake Gyllenhaal, Robert Downey J...</td>\n",
              "      <td>United States</td>\n",
              "      <td>November 20, 2019</td>\n",
              "      <td>2007</td>\n",
              "      <td>R</td>\n",
              "      <td>158 min</td>\n",
              "      <td>Cult Movies, Dramas, Thrillers</td>\n",
              "      <td>A political cartoonist, a crime reporter and a...</td>\n",
              "    </tr>\n",
              "    <tr>\n",
              "      <th>8803</th>\n",
              "      <td>s8804</td>\n",
              "      <td>TV Show</td>\n",
              "      <td>Zombie Dumb</td>\n",
              "      <td>NaN</td>\n",
              "      <td>NaN</td>\n",
              "      <td>NaN</td>\n",
              "      <td>July 1, 2019</td>\n",
              "      <td>2018</td>\n",
              "      <td>TV-Y7</td>\n",
              "      <td>2 Seasons</td>\n",
              "      <td>Kids' TV, Korean TV Shows, TV Comedies</td>\n",
              "      <td>While living alone in a spooky town, a young g...</td>\n",
              "    </tr>\n",
              "    <tr>\n",
              "      <th>8804</th>\n",
              "      <td>s8805</td>\n",
              "      <td>Movie</td>\n",
              "      <td>Zombieland</td>\n",
              "      <td>Ruben Fleischer</td>\n",
              "      <td>Jesse Eisenberg, Woody Harrelson, Emma Stone, ...</td>\n",
              "      <td>United States</td>\n",
              "      <td>November 1, 2019</td>\n",
              "      <td>2009</td>\n",
              "      <td>R</td>\n",
              "      <td>88 min</td>\n",
              "      <td>Comedies, Horror Movies</td>\n",
              "      <td>Looking to survive in a world taken over by zo...</td>\n",
              "    </tr>\n",
              "    <tr>\n",
              "      <th>8805</th>\n",
              "      <td>s8806</td>\n",
              "      <td>Movie</td>\n",
              "      <td>Zoom</td>\n",
              "      <td>Peter Hewitt</td>\n",
              "      <td>Tim Allen, Courteney Cox, Chevy Chase, Kate Ma...</td>\n",
              "      <td>United States</td>\n",
              "      <td>January 11, 2020</td>\n",
              "      <td>2006</td>\n",
              "      <td>PG</td>\n",
              "      <td>88 min</td>\n",
              "      <td>Children &amp; Family Movies, Comedies</td>\n",
              "      <td>Dragged from civilian life, a former superhero...</td>\n",
              "    </tr>\n",
              "    <tr>\n",
              "      <th>8806</th>\n",
              "      <td>s8807</td>\n",
              "      <td>Movie</td>\n",
              "      <td>Zubaan</td>\n",
              "      <td>Mozez Singh</td>\n",
              "      <td>Vicky Kaushal, Sarah-Jane Dias, Raaghav Chanan...</td>\n",
              "      <td>India</td>\n",
              "      <td>March 2, 2019</td>\n",
              "      <td>2015</td>\n",
              "      <td>TV-14</td>\n",
              "      <td>111 min</td>\n",
              "      <td>Dramas, International Movies, Music &amp; Musicals</td>\n",
              "      <td>A scrappy but poor boy worms his way into a ty...</td>\n",
              "    </tr>\n",
              "  </tbody>\n",
              "</table>\n",
              "<p>8807 rows × 12 columns</p>\n",
              "</div>"
            ],
            "text/plain": [
              "     show_id  ...                                        description\n",
              "0         s1  ...  As her father nears the end of his life, filmm...\n",
              "1         s2  ...  After crossing paths at a party, a Cape Town t...\n",
              "2         s3  ...  To protect his family from a powerful drug lor...\n",
              "3         s4  ...  Feuds, flirtations and toilet talk go down amo...\n",
              "4         s5  ...  In a city of coaching centers known to train I...\n",
              "...      ...  ...                                                ...\n",
              "8802   s8803  ...  A political cartoonist, a crime reporter and a...\n",
              "8803   s8804  ...  While living alone in a spooky town, a young g...\n",
              "8804   s8805  ...  Looking to survive in a world taken over by zo...\n",
              "8805   s8806  ...  Dragged from civilian life, a former superhero...\n",
              "8806   s8807  ...  A scrappy but poor boy worms his way into a ty...\n",
              "\n",
              "[8807 rows x 12 columns]"
            ]
          },
          "metadata": {},
          "execution_count": 140
        }
      ]
    },
    {
      "cell_type": "markdown",
      "metadata": {
        "id": "-6tfZKAffyQT"
      },
      "source": [
        "train-test splits using sklearn"
      ]
    },
    {
      "cell_type": "code",
      "metadata": {
        "id": "BwIVzf6_f6NL"
      },
      "source": [
        "from sklearn.model_selection import train_test_split\n",
        "train, test = train_test_split(netflix, test_size=0.20, random_state=42)    #test = 20% and train = 80%\n"
      ],
      "execution_count": 141,
      "outputs": []
    },
    {
      "cell_type": "code",
      "metadata": {
        "id": "9KGGjwiBgyma",
        "colab": {
          "base_uri": "https://localhost:8080/"
        },
        "outputId": "ce2e04f7-cc03-4ba5-f0bf-fab8b23d9054"
      },
      "source": [
        "\n",
        "len(test)   #20%"
      ],
      "execution_count": 142,
      "outputs": [
        {
          "output_type": "execute_result",
          "data": {
            "text/plain": [
              "1762"
            ]
          },
          "metadata": {},
          "execution_count": 142
        }
      ]
    },
    {
      "cell_type": "code",
      "metadata": {
        "id": "hun5u_8VhKwp",
        "colab": {
          "base_uri": "https://localhost:8080/"
        },
        "outputId": "a5b6d649-9864-4c7b-d05c-152fdf505d32"
      },
      "source": [
        "len(train)   #80%"
      ],
      "execution_count": 143,
      "outputs": [
        {
          "output_type": "execute_result",
          "data": {
            "text/plain": [
              "7045"
            ]
          },
          "metadata": {},
          "execution_count": 143
        }
      ]
    },
    {
      "cell_type": "code",
      "metadata": {
        "id": "Z0ylbF7OhQ5Z",
        "colab": {
          "base_uri": "https://localhost:8080/"
        },
        "outputId": "67a15fea-ce9c-4b88-9e56-277959a8fbd4"
      },
      "source": [
        "len(netflix)    #100%"
      ],
      "execution_count": 144,
      "outputs": [
        {
          "output_type": "execute_result",
          "data": {
            "text/plain": [
              "8807"
            ]
          },
          "metadata": {},
          "execution_count": 144
        }
      ]
    },
    {
      "cell_type": "markdown",
      "metadata": {
        "id": "Ln_hlsGKhi9T"
      },
      "source": [
        "showing the first 5 rows of trainning dataset and testing dataset..."
      ]
    },
    {
      "cell_type": "code",
      "metadata": {
        "id": "AyfaorHAhr7C",
        "colab": {
          "base_uri": "https://localhost:8080/",
          "height": 506
        },
        "outputId": "bb55d0b3-6fec-486a-a9ae-ca0609c15499"
      },
      "source": [
        "train.head()"
      ],
      "execution_count": 145,
      "outputs": [
        {
          "output_type": "execute_result",
          "data": {
            "text/html": [
              "<div>\n",
              "<style scoped>\n",
              "    .dataframe tbody tr th:only-of-type {\n",
              "        vertical-align: middle;\n",
              "    }\n",
              "\n",
              "    .dataframe tbody tr th {\n",
              "        vertical-align: top;\n",
              "    }\n",
              "\n",
              "    .dataframe thead th {\n",
              "        text-align: right;\n",
              "    }\n",
              "</style>\n",
              "<table border=\"1\" class=\"dataframe\">\n",
              "  <thead>\n",
              "    <tr style=\"text-align: right;\">\n",
              "      <th></th>\n",
              "      <th>show_id</th>\n",
              "      <th>type</th>\n",
              "      <th>title</th>\n",
              "      <th>director</th>\n",
              "      <th>cast</th>\n",
              "      <th>country</th>\n",
              "      <th>date_added</th>\n",
              "      <th>release_year</th>\n",
              "      <th>rating</th>\n",
              "      <th>duration</th>\n",
              "      <th>listed_in</th>\n",
              "      <th>description</th>\n",
              "    </tr>\n",
              "  </thead>\n",
              "  <tbody>\n",
              "    <tr>\n",
              "      <th>5471</th>\n",
              "      <td>s5472</td>\n",
              "      <td>Movie</td>\n",
              "      <td>Joshua: Teenager vs. Superpower</td>\n",
              "      <td>Joe Piscatella</td>\n",
              "      <td>NaN</td>\n",
              "      <td>United States</td>\n",
              "      <td>May 26, 2017</td>\n",
              "      <td>2017</td>\n",
              "      <td>TV-14</td>\n",
              "      <td>79 min</td>\n",
              "      <td>Documentaries</td>\n",
              "      <td>Mobilized by teenage activist Joshua Wong, you...</td>\n",
              "    </tr>\n",
              "    <tr>\n",
              "      <th>530</th>\n",
              "      <td>s531</td>\n",
              "      <td>TV Show</td>\n",
              "      <td>Richie Rich</td>\n",
              "      <td>NaN</td>\n",
              "      <td>Jake Brennan, Joshua Carlon, Lauren Taylor, Je...</td>\n",
              "      <td>United States</td>\n",
              "      <td>July 6, 2021</td>\n",
              "      <td>2015</td>\n",
              "      <td>TV-G</td>\n",
              "      <td>2 Seasons</td>\n",
              "      <td>Kids' TV, TV Comedies</td>\n",
              "      <td>After turning his veggies into green energy, R...</td>\n",
              "    </tr>\n",
              "    <tr>\n",
              "      <th>5594</th>\n",
              "      <td>s5595</td>\n",
              "      <td>Movie</td>\n",
              "      <td>Trevor Noah: Afraid of the Dark</td>\n",
              "      <td>David Paul Meyer</td>\n",
              "      <td>Trevor Noah</td>\n",
              "      <td>United States</td>\n",
              "      <td>February 21, 2017</td>\n",
              "      <td>2017</td>\n",
              "      <td>TV-14</td>\n",
              "      <td>67 min</td>\n",
              "      <td>Stand-Up Comedy</td>\n",
              "      <td>The \"Daily Show\" host ponders the perils of na...</td>\n",
              "    </tr>\n",
              "    <tr>\n",
              "      <th>996</th>\n",
              "      <td>s997</td>\n",
              "      <td>Movie</td>\n",
              "      <td>HOMUNCULUS</td>\n",
              "      <td>Takashi Shimizu</td>\n",
              "      <td>Go Ayano, Ryo Narita, Yukino Kishii, Anna Ishi...</td>\n",
              "      <td>Japan</td>\n",
              "      <td>April 22, 2021</td>\n",
              "      <td>2021</td>\n",
              "      <td>TV-MA</td>\n",
              "      <td>116 min</td>\n",
              "      <td>Horror Movies, International Movies, Thrillers</td>\n",
              "      <td>Truth and illusion blurs when a homeless amnes...</td>\n",
              "    </tr>\n",
              "    <tr>\n",
              "      <th>6951</th>\n",
              "      <td>s6952</td>\n",
              "      <td>TV Show</td>\n",
              "      <td>Heavy Rescue: 401</td>\n",
              "      <td>NaN</td>\n",
              "      <td>Dave Pettitt</td>\n",
              "      <td>Canada</td>\n",
              "      <td>June 22, 2018</td>\n",
              "      <td>2018</td>\n",
              "      <td>TV-MA</td>\n",
              "      <td>2 Seasons</td>\n",
              "      <td>International TV Shows, Reality TV</td>\n",
              "      <td>In the harshest weather, rookie and veteran he...</td>\n",
              "    </tr>\n",
              "  </tbody>\n",
              "</table>\n",
              "</div>"
            ],
            "text/plain": [
              "     show_id  ...                                        description\n",
              "5471   s5472  ...  Mobilized by teenage activist Joshua Wong, you...\n",
              "530     s531  ...  After turning his veggies into green energy, R...\n",
              "5594   s5595  ...  The \"Daily Show\" host ponders the perils of na...\n",
              "996     s997  ...  Truth and illusion blurs when a homeless amnes...\n",
              "6951   s6952  ...  In the harshest weather, rookie and veteran he...\n",
              "\n",
              "[5 rows x 12 columns]"
            ]
          },
          "metadata": {},
          "execution_count": 145
        }
      ]
    },
    {
      "cell_type": "code",
      "metadata": {
        "id": "95nZon7RhxR8",
        "colab": {
          "base_uri": "https://localhost:8080/",
          "height": 489
        },
        "outputId": "9b33bdde-5fb0-4891-dd37-df72ec696ca0"
      },
      "source": [
        "test.head()"
      ],
      "execution_count": 146,
      "outputs": [
        {
          "output_type": "execute_result",
          "data": {
            "text/html": [
              "<div>\n",
              "<style scoped>\n",
              "    .dataframe tbody tr th:only-of-type {\n",
              "        vertical-align: middle;\n",
              "    }\n",
              "\n",
              "    .dataframe tbody tr th {\n",
              "        vertical-align: top;\n",
              "    }\n",
              "\n",
              "    .dataframe thead th {\n",
              "        text-align: right;\n",
              "    }\n",
              "</style>\n",
              "<table border=\"1\" class=\"dataframe\">\n",
              "  <thead>\n",
              "    <tr style=\"text-align: right;\">\n",
              "      <th></th>\n",
              "      <th>show_id</th>\n",
              "      <th>type</th>\n",
              "      <th>title</th>\n",
              "      <th>director</th>\n",
              "      <th>cast</th>\n",
              "      <th>country</th>\n",
              "      <th>date_added</th>\n",
              "      <th>release_year</th>\n",
              "      <th>rating</th>\n",
              "      <th>duration</th>\n",
              "      <th>listed_in</th>\n",
              "      <th>description</th>\n",
              "    </tr>\n",
              "  </thead>\n",
              "  <tbody>\n",
              "    <tr>\n",
              "      <th>4970</th>\n",
              "      <td>s4971</td>\n",
              "      <td>Movie</td>\n",
              "      <td>Game Over, Man!</td>\n",
              "      <td>Kyle Newacheck</td>\n",
              "      <td>Adam DeVine, Anders Holm, Blake Anderson, Utka...</td>\n",
              "      <td>United States</td>\n",
              "      <td>March 23, 2018</td>\n",
              "      <td>2018</td>\n",
              "      <td>TV-MA</td>\n",
              "      <td>102 min</td>\n",
              "      <td>Action &amp; Adventure, Comedies</td>\n",
              "      <td>Three buddies with big dreams go from underach...</td>\n",
              "    </tr>\n",
              "    <tr>\n",
              "      <th>3362</th>\n",
              "      <td>s3363</td>\n",
              "      <td>Movie</td>\n",
              "      <td>Arsenio Hall: Smart &amp; Classy</td>\n",
              "      <td>Brian Volk-Weiss</td>\n",
              "      <td>Arsenio Hall</td>\n",
              "      <td>United States</td>\n",
              "      <td>October 29, 2019</td>\n",
              "      <td>2019</td>\n",
              "      <td>TV-MA</td>\n",
              "      <td>63 min</td>\n",
              "      <td>Stand-Up Comedy</td>\n",
              "      <td>In his first stand-up special, Arsenio Hall di...</td>\n",
              "    </tr>\n",
              "    <tr>\n",
              "      <th>5494</th>\n",
              "      <td>s5495</td>\n",
              "      <td>TV Show</td>\n",
              "      <td>Kazoops!</td>\n",
              "      <td>NaN</td>\n",
              "      <td>Reece Pockney, Scott Langley, Alex Babic, Gemm...</td>\n",
              "      <td>Australia</td>\n",
              "      <td>May 5, 2017</td>\n",
              "      <td>2017</td>\n",
              "      <td>TV-Y</td>\n",
              "      <td>3 Seasons</td>\n",
              "      <td>Kids' TV</td>\n",
              "      <td>Music meets imagination in this inventive anim...</td>\n",
              "    </tr>\n",
              "    <tr>\n",
              "      <th>1688</th>\n",
              "      <td>s1689</td>\n",
              "      <td>TV Show</td>\n",
              "      <td>We Are the Champions</td>\n",
              "      <td>NaN</td>\n",
              "      <td>NaN</td>\n",
              "      <td>United States</td>\n",
              "      <td>November 17, 2020</td>\n",
              "      <td>2020</td>\n",
              "      <td>TV-MA</td>\n",
              "      <td>1 Season</td>\n",
              "      <td>Docuseries, Reality TV</td>\n",
              "      <td>Explore an array of unique competitions, from ...</td>\n",
              "    </tr>\n",
              "    <tr>\n",
              "      <th>1349</th>\n",
              "      <td>s1350</td>\n",
              "      <td>TV Show</td>\n",
              "      <td>Pablo Escobar, el patrón del mal</td>\n",
              "      <td>NaN</td>\n",
              "      <td>Andrés Parra, Angie Cepeda, Cecilia Navia, Vic...</td>\n",
              "      <td>Colombia</td>\n",
              "      <td>February 3, 2021</td>\n",
              "      <td>2012</td>\n",
              "      <td>TV-MA</td>\n",
              "      <td>1 Season</td>\n",
              "      <td>Crime TV Shows, International TV Shows, Spanis...</td>\n",
              "      <td>From his days as a petty thief to becoming hea...</td>\n",
              "    </tr>\n",
              "  </tbody>\n",
              "</table>\n",
              "</div>"
            ],
            "text/plain": [
              "     show_id  ...                                        description\n",
              "4970   s4971  ...  Three buddies with big dreams go from underach...\n",
              "3362   s3363  ...  In his first stand-up special, Arsenio Hall di...\n",
              "5494   s5495  ...  Music meets imagination in this inventive anim...\n",
              "1688   s1689  ...  Explore an array of unique competitions, from ...\n",
              "1349   s1350  ...  From his days as a petty thief to becoming hea...\n",
              "\n",
              "[5 rows x 12 columns]"
            ]
          },
          "metadata": {},
          "execution_count": 146
        }
      ]
    },
    {
      "cell_type": "code",
      "metadata": {
        "id": "HYKUnhbDizJZ"
      },
      "source": [
        "train2, val = train_test_split(train,test_size=0.20,random_state=42)"
      ],
      "execution_count": 147,
      "outputs": []
    },
    {
      "cell_type": "code",
      "metadata": {
        "id": "Qf6T2YDpjPvb",
        "colab": {
          "base_uri": "https://localhost:8080/",
          "height": 506
        },
        "outputId": "856f4d8a-778c-4e4c-996e-74ae762c37e2"
      },
      "source": [
        "val.head()"
      ],
      "execution_count": 148,
      "outputs": [
        {
          "output_type": "execute_result",
          "data": {
            "text/html": [
              "<div>\n",
              "<style scoped>\n",
              "    .dataframe tbody tr th:only-of-type {\n",
              "        vertical-align: middle;\n",
              "    }\n",
              "\n",
              "    .dataframe tbody tr th {\n",
              "        vertical-align: top;\n",
              "    }\n",
              "\n",
              "    .dataframe thead th {\n",
              "        text-align: right;\n",
              "    }\n",
              "</style>\n",
              "<table border=\"1\" class=\"dataframe\">\n",
              "  <thead>\n",
              "    <tr style=\"text-align: right;\">\n",
              "      <th></th>\n",
              "      <th>show_id</th>\n",
              "      <th>type</th>\n",
              "      <th>title</th>\n",
              "      <th>director</th>\n",
              "      <th>cast</th>\n",
              "      <th>country</th>\n",
              "      <th>date_added</th>\n",
              "      <th>release_year</th>\n",
              "      <th>rating</th>\n",
              "      <th>duration</th>\n",
              "      <th>listed_in</th>\n",
              "      <th>description</th>\n",
              "    </tr>\n",
              "  </thead>\n",
              "  <tbody>\n",
              "    <tr>\n",
              "      <th>8083</th>\n",
              "      <td>s8084</td>\n",
              "      <td>TV Show</td>\n",
              "      <td>Star-Crossed</td>\n",
              "      <td>NaN</td>\n",
              "      <td>Aimee Teegarden, Matt Lanter, Grey Damon, Male...</td>\n",
              "      <td>United States</td>\n",
              "      <td>April 16, 2015</td>\n",
              "      <td>2014</td>\n",
              "      <td>TV-14</td>\n",
              "      <td>1 Season</td>\n",
              "      <td>Romantic TV Shows, TV Dramas, TV Sci-Fi &amp; Fantasy</td>\n",
              "      <td>The passionate love between an alien boy and a...</td>\n",
              "    </tr>\n",
              "    <tr>\n",
              "      <th>2051</th>\n",
              "      <td>s2052</td>\n",
              "      <td>Movie</td>\n",
              "      <td>Ave Maryam</td>\n",
              "      <td>Ertanto Robby Soediskam</td>\n",
              "      <td>Maudy Koesnaedi, Chicco Jerikho, Tutie Kirana,...</td>\n",
              "      <td>Indonesia</td>\n",
              "      <td>September 3, 2020</td>\n",
              "      <td>2018</td>\n",
              "      <td>TV-PG</td>\n",
              "      <td>73 min</td>\n",
              "      <td>Dramas, Independent Movies, International Movies</td>\n",
              "      <td>A devoted nun who cares for her elder sisters ...</td>\n",
              "    </tr>\n",
              "    <tr>\n",
              "      <th>7756</th>\n",
              "      <td>s7757</td>\n",
              "      <td>TV Show</td>\n",
              "      <td>Portlandia</td>\n",
              "      <td>NaN</td>\n",
              "      <td>Fred Armisen, Carrie Brownstein</td>\n",
              "      <td>United States</td>\n",
              "      <td>September 25, 2019</td>\n",
              "      <td>2018</td>\n",
              "      <td>TV-14</td>\n",
              "      <td>8 Seasons</td>\n",
              "      <td>TV Comedies</td>\n",
              "      <td>Fred Armisen and Carrie Brownstein send up the...</td>\n",
              "    </tr>\n",
              "    <tr>\n",
              "      <th>3385</th>\n",
              "      <td>s3386</td>\n",
              "      <td>TV Show</td>\n",
              "      <td>Breakfast, Lunch &amp; Dinner</td>\n",
              "      <td>NaN</td>\n",
              "      <td>David Chang, Seth Rogen, Chrissy Teigen, Lena ...</td>\n",
              "      <td>United States</td>\n",
              "      <td>October 23, 2019</td>\n",
              "      <td>2019</td>\n",
              "      <td>TV-MA</td>\n",
              "      <td>1 Season</td>\n",
              "      <td>Docuseries</td>\n",
              "      <td>Chef David Chang takes his insatiable curiosit...</td>\n",
              "    </tr>\n",
              "    <tr>\n",
              "      <th>7122</th>\n",
              "      <td>s7123</td>\n",
              "      <td>Movie</td>\n",
              "      <td>Jealousy and medicine</td>\n",
              "      <td>Janusz Majewski</td>\n",
              "      <td>Mariusz Dmochowski, Ewa Krzyżewska, Włodzimier...</td>\n",
              "      <td>Poland</td>\n",
              "      <td>October 1, 2019</td>\n",
              "      <td>1973</td>\n",
              "      <td>TV-MA</td>\n",
              "      <td>97 min</td>\n",
              "      <td>Dramas, International Movies, Romantic Movies</td>\n",
              "      <td>Tormented by mistrust, a businessman hires a c...</td>\n",
              "    </tr>\n",
              "  </tbody>\n",
              "</table>\n",
              "</div>"
            ],
            "text/plain": [
              "     show_id  ...                                        description\n",
              "8083   s8084  ...  The passionate love between an alien boy and a...\n",
              "2051   s2052  ...  A devoted nun who cares for her elder sisters ...\n",
              "7756   s7757  ...  Fred Armisen and Carrie Brownstein send up the...\n",
              "3385   s3386  ...  Chef David Chang takes his insatiable curiosit...\n",
              "7122   s7123  ...  Tormented by mistrust, a businessman hires a c...\n",
              "\n",
              "[5 rows x 12 columns]"
            ]
          },
          "metadata": {},
          "execution_count": 148
        }
      ]
    },
    {
      "cell_type": "code",
      "metadata": {
        "id": "2UHhRtGQj7d0",
        "colab": {
          "base_uri": "https://localhost:8080/"
        },
        "outputId": "ed61dbc6-164e-4b12-c7f2-85ed56624f6c"
      },
      "source": [
        "y = netflix['release_year']\n",
        "y"
      ],
      "execution_count": 149,
      "outputs": [
        {
          "output_type": "execute_result",
          "data": {
            "text/plain": [
              "0       2020\n",
              "1       2021\n",
              "2       2021\n",
              "3       2021\n",
              "4       2021\n",
              "        ... \n",
              "8802    2007\n",
              "8803    2018\n",
              "8804    2009\n",
              "8805    2006\n",
              "8806    2015\n",
              "Name: release_year, Length: 8807, dtype: int64"
            ]
          },
          "metadata": {},
          "execution_count": 149
        }
      ]
    },
    {
      "cell_type": "code",
      "metadata": {
        "id": "jciirUlBkn99",
        "colab": {
          "base_uri": "https://localhost:8080/",
          "height": 371
        },
        "outputId": "2a2ee241-cd67-4519-d40d-7b2bd79efccf"
      },
      "source": [
        "x = netflix.drop(columns='release_year')\n",
        "x.head()"
      ],
      "execution_count": 150,
      "outputs": [
        {
          "output_type": "execute_result",
          "data": {
            "text/html": [
              "<div>\n",
              "<style scoped>\n",
              "    .dataframe tbody tr th:only-of-type {\n",
              "        vertical-align: middle;\n",
              "    }\n",
              "\n",
              "    .dataframe tbody tr th {\n",
              "        vertical-align: top;\n",
              "    }\n",
              "\n",
              "    .dataframe thead th {\n",
              "        text-align: right;\n",
              "    }\n",
              "</style>\n",
              "<table border=\"1\" class=\"dataframe\">\n",
              "  <thead>\n",
              "    <tr style=\"text-align: right;\">\n",
              "      <th></th>\n",
              "      <th>show_id</th>\n",
              "      <th>type</th>\n",
              "      <th>title</th>\n",
              "      <th>director</th>\n",
              "      <th>cast</th>\n",
              "      <th>country</th>\n",
              "      <th>date_added</th>\n",
              "      <th>rating</th>\n",
              "      <th>duration</th>\n",
              "      <th>listed_in</th>\n",
              "      <th>description</th>\n",
              "    </tr>\n",
              "  </thead>\n",
              "  <tbody>\n",
              "    <tr>\n",
              "      <th>0</th>\n",
              "      <td>s1</td>\n",
              "      <td>Movie</td>\n",
              "      <td>Dick Johnson Is Dead</td>\n",
              "      <td>Kirsten Johnson</td>\n",
              "      <td>NaN</td>\n",
              "      <td>United States</td>\n",
              "      <td>September 25, 2021</td>\n",
              "      <td>PG-13</td>\n",
              "      <td>90 min</td>\n",
              "      <td>Documentaries</td>\n",
              "      <td>As her father nears the end of his life, filmm...</td>\n",
              "    </tr>\n",
              "    <tr>\n",
              "      <th>1</th>\n",
              "      <td>s2</td>\n",
              "      <td>TV Show</td>\n",
              "      <td>Blood &amp; Water</td>\n",
              "      <td>NaN</td>\n",
              "      <td>Ama Qamata, Khosi Ngema, Gail Mabalane, Thaban...</td>\n",
              "      <td>South Africa</td>\n",
              "      <td>September 24, 2021</td>\n",
              "      <td>TV-MA</td>\n",
              "      <td>2 Seasons</td>\n",
              "      <td>International TV Shows, TV Dramas, TV Mysteries</td>\n",
              "      <td>After crossing paths at a party, a Cape Town t...</td>\n",
              "    </tr>\n",
              "    <tr>\n",
              "      <th>2</th>\n",
              "      <td>s3</td>\n",
              "      <td>TV Show</td>\n",
              "      <td>Ganglands</td>\n",
              "      <td>Julien Leclercq</td>\n",
              "      <td>Sami Bouajila, Tracy Gotoas, Samuel Jouy, Nabi...</td>\n",
              "      <td>NaN</td>\n",
              "      <td>September 24, 2021</td>\n",
              "      <td>TV-MA</td>\n",
              "      <td>1 Season</td>\n",
              "      <td>Crime TV Shows, International TV Shows, TV Act...</td>\n",
              "      <td>To protect his family from a powerful drug lor...</td>\n",
              "    </tr>\n",
              "    <tr>\n",
              "      <th>3</th>\n",
              "      <td>s4</td>\n",
              "      <td>TV Show</td>\n",
              "      <td>Jailbirds New Orleans</td>\n",
              "      <td>NaN</td>\n",
              "      <td>NaN</td>\n",
              "      <td>NaN</td>\n",
              "      <td>September 24, 2021</td>\n",
              "      <td>TV-MA</td>\n",
              "      <td>1 Season</td>\n",
              "      <td>Docuseries, Reality TV</td>\n",
              "      <td>Feuds, flirtations and toilet talk go down amo...</td>\n",
              "    </tr>\n",
              "    <tr>\n",
              "      <th>4</th>\n",
              "      <td>s5</td>\n",
              "      <td>TV Show</td>\n",
              "      <td>Kota Factory</td>\n",
              "      <td>NaN</td>\n",
              "      <td>Mayur More, Jitendra Kumar, Ranjan Raj, Alam K...</td>\n",
              "      <td>India</td>\n",
              "      <td>September 24, 2021</td>\n",
              "      <td>TV-MA</td>\n",
              "      <td>2 Seasons</td>\n",
              "      <td>International TV Shows, Romantic TV Shows, TV ...</td>\n",
              "      <td>In a city of coaching centers known to train I...</td>\n",
              "    </tr>\n",
              "  </tbody>\n",
              "</table>\n",
              "</div>"
            ],
            "text/plain": [
              "  show_id  ...                                        description\n",
              "0      s1  ...  As her father nears the end of his life, filmm...\n",
              "1      s2  ...  After crossing paths at a party, a Cape Town t...\n",
              "2      s3  ...  To protect his family from a powerful drug lor...\n",
              "3      s4  ...  Feuds, flirtations and toilet talk go down amo...\n",
              "4      s5  ...  In a city of coaching centers known to train I...\n",
              "\n",
              "[5 rows x 11 columns]"
            ]
          },
          "metadata": {},
          "execution_count": 150
        }
      ]
    },
    {
      "cell_type": "code",
      "metadata": {
        "id": "x5yMw4ZolsQG"
      },
      "source": [
        "x_train, x_test, y_train, y_test= train_test_split(x, y, test_size=0.20,random_state=42)"
      ],
      "execution_count": 151,
      "outputs": []
    },
    {
      "cell_type": "code",
      "metadata": {
        "id": "9xdReXwPmbQr",
        "colab": {
          "base_uri": "https://localhost:8080/",
          "height": 405
        },
        "outputId": "31d2f9e3-7055-4157-e229-d90536ded4e3"
      },
      "source": [
        "x_train.head()"
      ],
      "execution_count": 152,
      "outputs": [
        {
          "output_type": "execute_result",
          "data": {
            "text/html": [
              "<div>\n",
              "<style scoped>\n",
              "    .dataframe tbody tr th:only-of-type {\n",
              "        vertical-align: middle;\n",
              "    }\n",
              "\n",
              "    .dataframe tbody tr th {\n",
              "        vertical-align: top;\n",
              "    }\n",
              "\n",
              "    .dataframe thead th {\n",
              "        text-align: right;\n",
              "    }\n",
              "</style>\n",
              "<table border=\"1\" class=\"dataframe\">\n",
              "  <thead>\n",
              "    <tr style=\"text-align: right;\">\n",
              "      <th></th>\n",
              "      <th>show_id</th>\n",
              "      <th>type</th>\n",
              "      <th>title</th>\n",
              "      <th>director</th>\n",
              "      <th>cast</th>\n",
              "      <th>country</th>\n",
              "      <th>date_added</th>\n",
              "      <th>rating</th>\n",
              "      <th>duration</th>\n",
              "      <th>listed_in</th>\n",
              "      <th>description</th>\n",
              "    </tr>\n",
              "  </thead>\n",
              "  <tbody>\n",
              "    <tr>\n",
              "      <th>5471</th>\n",
              "      <td>s5472</td>\n",
              "      <td>Movie</td>\n",
              "      <td>Joshua: Teenager vs. Superpower</td>\n",
              "      <td>Joe Piscatella</td>\n",
              "      <td>NaN</td>\n",
              "      <td>United States</td>\n",
              "      <td>May 26, 2017</td>\n",
              "      <td>TV-14</td>\n",
              "      <td>79 min</td>\n",
              "      <td>Documentaries</td>\n",
              "      <td>Mobilized by teenage activist Joshua Wong, you...</td>\n",
              "    </tr>\n",
              "    <tr>\n",
              "      <th>530</th>\n",
              "      <td>s531</td>\n",
              "      <td>TV Show</td>\n",
              "      <td>Richie Rich</td>\n",
              "      <td>NaN</td>\n",
              "      <td>Jake Brennan, Joshua Carlon, Lauren Taylor, Je...</td>\n",
              "      <td>United States</td>\n",
              "      <td>July 6, 2021</td>\n",
              "      <td>TV-G</td>\n",
              "      <td>2 Seasons</td>\n",
              "      <td>Kids' TV, TV Comedies</td>\n",
              "      <td>After turning his veggies into green energy, R...</td>\n",
              "    </tr>\n",
              "    <tr>\n",
              "      <th>5594</th>\n",
              "      <td>s5595</td>\n",
              "      <td>Movie</td>\n",
              "      <td>Trevor Noah: Afraid of the Dark</td>\n",
              "      <td>David Paul Meyer</td>\n",
              "      <td>Trevor Noah</td>\n",
              "      <td>United States</td>\n",
              "      <td>February 21, 2017</td>\n",
              "      <td>TV-14</td>\n",
              "      <td>67 min</td>\n",
              "      <td>Stand-Up Comedy</td>\n",
              "      <td>The \"Daily Show\" host ponders the perils of na...</td>\n",
              "    </tr>\n",
              "    <tr>\n",
              "      <th>996</th>\n",
              "      <td>s997</td>\n",
              "      <td>Movie</td>\n",
              "      <td>HOMUNCULUS</td>\n",
              "      <td>Takashi Shimizu</td>\n",
              "      <td>Go Ayano, Ryo Narita, Yukino Kishii, Anna Ishi...</td>\n",
              "      <td>Japan</td>\n",
              "      <td>April 22, 2021</td>\n",
              "      <td>TV-MA</td>\n",
              "      <td>116 min</td>\n",
              "      <td>Horror Movies, International Movies, Thrillers</td>\n",
              "      <td>Truth and illusion blurs when a homeless amnes...</td>\n",
              "    </tr>\n",
              "    <tr>\n",
              "      <th>6951</th>\n",
              "      <td>s6952</td>\n",
              "      <td>TV Show</td>\n",
              "      <td>Heavy Rescue: 401</td>\n",
              "      <td>NaN</td>\n",
              "      <td>Dave Pettitt</td>\n",
              "      <td>Canada</td>\n",
              "      <td>June 22, 2018</td>\n",
              "      <td>TV-MA</td>\n",
              "      <td>2 Seasons</td>\n",
              "      <td>International TV Shows, Reality TV</td>\n",
              "      <td>In the harshest weather, rookie and veteran he...</td>\n",
              "    </tr>\n",
              "  </tbody>\n",
              "</table>\n",
              "</div>"
            ],
            "text/plain": [
              "     show_id  ...                                        description\n",
              "5471   s5472  ...  Mobilized by teenage activist Joshua Wong, you...\n",
              "530     s531  ...  After turning his veggies into green energy, R...\n",
              "5594   s5595  ...  The \"Daily Show\" host ponders the perils of na...\n",
              "996     s997  ...  Truth and illusion blurs when a homeless amnes...\n",
              "6951   s6952  ...  In the harshest weather, rookie and veteran he...\n",
              "\n",
              "[5 rows x 11 columns]"
            ]
          },
          "metadata": {},
          "execution_count": 152
        }
      ]
    },
    {
      "cell_type": "code",
      "metadata": {
        "id": "7_rC6Z_Umifw",
        "colab": {
          "base_uri": "https://localhost:8080/"
        },
        "outputId": "9e14f6dc-ae2b-452e-a8da-232240bd4771"
      },
      "source": [
        "y_train"
      ],
      "execution_count": 153,
      "outputs": [
        {
          "output_type": "execute_result",
          "data": {
            "text/plain": [
              "5471    2017\n",
              "530     2015\n",
              "5594    2017\n",
              "996     2021\n",
              "6951    2018\n",
              "        ... \n",
              "5734    2016\n",
              "5191    2010\n",
              "5390    2014\n",
              "860     2020\n",
              "7270    2015\n",
              "Name: release_year, Length: 7045, dtype: int64"
            ]
          },
          "metadata": {},
          "execution_count": 153
        }
      ]
    },
    {
      "cell_type": "code",
      "metadata": {
        "id": "sZ7GshF2mnYH",
        "colab": {
          "base_uri": "https://localhost:8080/",
          "height": 405
        },
        "outputId": "63c85feb-9e76-48a7-8ac9-3ae46d9cd501"
      },
      "source": [
        "x_test.head()"
      ],
      "execution_count": 154,
      "outputs": [
        {
          "output_type": "execute_result",
          "data": {
            "text/html": [
              "<div>\n",
              "<style scoped>\n",
              "    .dataframe tbody tr th:only-of-type {\n",
              "        vertical-align: middle;\n",
              "    }\n",
              "\n",
              "    .dataframe tbody tr th {\n",
              "        vertical-align: top;\n",
              "    }\n",
              "\n",
              "    .dataframe thead th {\n",
              "        text-align: right;\n",
              "    }\n",
              "</style>\n",
              "<table border=\"1\" class=\"dataframe\">\n",
              "  <thead>\n",
              "    <tr style=\"text-align: right;\">\n",
              "      <th></th>\n",
              "      <th>show_id</th>\n",
              "      <th>type</th>\n",
              "      <th>title</th>\n",
              "      <th>director</th>\n",
              "      <th>cast</th>\n",
              "      <th>country</th>\n",
              "      <th>date_added</th>\n",
              "      <th>rating</th>\n",
              "      <th>duration</th>\n",
              "      <th>listed_in</th>\n",
              "      <th>description</th>\n",
              "    </tr>\n",
              "  </thead>\n",
              "  <tbody>\n",
              "    <tr>\n",
              "      <th>4970</th>\n",
              "      <td>s4971</td>\n",
              "      <td>Movie</td>\n",
              "      <td>Game Over, Man!</td>\n",
              "      <td>Kyle Newacheck</td>\n",
              "      <td>Adam DeVine, Anders Holm, Blake Anderson, Utka...</td>\n",
              "      <td>United States</td>\n",
              "      <td>March 23, 2018</td>\n",
              "      <td>TV-MA</td>\n",
              "      <td>102 min</td>\n",
              "      <td>Action &amp; Adventure, Comedies</td>\n",
              "      <td>Three buddies with big dreams go from underach...</td>\n",
              "    </tr>\n",
              "    <tr>\n",
              "      <th>3362</th>\n",
              "      <td>s3363</td>\n",
              "      <td>Movie</td>\n",
              "      <td>Arsenio Hall: Smart &amp; Classy</td>\n",
              "      <td>Brian Volk-Weiss</td>\n",
              "      <td>Arsenio Hall</td>\n",
              "      <td>United States</td>\n",
              "      <td>October 29, 2019</td>\n",
              "      <td>TV-MA</td>\n",
              "      <td>63 min</td>\n",
              "      <td>Stand-Up Comedy</td>\n",
              "      <td>In his first stand-up special, Arsenio Hall di...</td>\n",
              "    </tr>\n",
              "    <tr>\n",
              "      <th>5494</th>\n",
              "      <td>s5495</td>\n",
              "      <td>TV Show</td>\n",
              "      <td>Kazoops!</td>\n",
              "      <td>NaN</td>\n",
              "      <td>Reece Pockney, Scott Langley, Alex Babic, Gemm...</td>\n",
              "      <td>Australia</td>\n",
              "      <td>May 5, 2017</td>\n",
              "      <td>TV-Y</td>\n",
              "      <td>3 Seasons</td>\n",
              "      <td>Kids' TV</td>\n",
              "      <td>Music meets imagination in this inventive anim...</td>\n",
              "    </tr>\n",
              "    <tr>\n",
              "      <th>1688</th>\n",
              "      <td>s1689</td>\n",
              "      <td>TV Show</td>\n",
              "      <td>We Are the Champions</td>\n",
              "      <td>NaN</td>\n",
              "      <td>NaN</td>\n",
              "      <td>United States</td>\n",
              "      <td>November 17, 2020</td>\n",
              "      <td>TV-MA</td>\n",
              "      <td>1 Season</td>\n",
              "      <td>Docuseries, Reality TV</td>\n",
              "      <td>Explore an array of unique competitions, from ...</td>\n",
              "    </tr>\n",
              "    <tr>\n",
              "      <th>1349</th>\n",
              "      <td>s1350</td>\n",
              "      <td>TV Show</td>\n",
              "      <td>Pablo Escobar, el patrón del mal</td>\n",
              "      <td>NaN</td>\n",
              "      <td>Andrés Parra, Angie Cepeda, Cecilia Navia, Vic...</td>\n",
              "      <td>Colombia</td>\n",
              "      <td>February 3, 2021</td>\n",
              "      <td>TV-MA</td>\n",
              "      <td>1 Season</td>\n",
              "      <td>Crime TV Shows, International TV Shows, Spanis...</td>\n",
              "      <td>From his days as a petty thief to becoming hea...</td>\n",
              "    </tr>\n",
              "  </tbody>\n",
              "</table>\n",
              "</div>"
            ],
            "text/plain": [
              "     show_id  ...                                        description\n",
              "4970   s4971  ...  Three buddies with big dreams go from underach...\n",
              "3362   s3363  ...  In his first stand-up special, Arsenio Hall di...\n",
              "5494   s5495  ...  Music meets imagination in this inventive anim...\n",
              "1688   s1689  ...  Explore an array of unique competitions, from ...\n",
              "1349   s1350  ...  From his days as a petty thief to becoming hea...\n",
              "\n",
              "[5 rows x 11 columns]"
            ]
          },
          "metadata": {},
          "execution_count": 154
        }
      ]
    },
    {
      "cell_type": "code",
      "metadata": {
        "id": "XI9WbLYQmr87",
        "colab": {
          "base_uri": "https://localhost:8080/"
        },
        "outputId": "7de55df3-90fb-4652-e177-c58efaacad1d"
      },
      "source": [
        "y_test"
      ],
      "execution_count": 155,
      "outputs": [
        {
          "output_type": "execute_result",
          "data": {
            "text/plain": [
              "4970    2018\n",
              "3362    2019\n",
              "5494    2017\n",
              "1688    2020\n",
              "1349    2012\n",
              "        ... \n",
              "6844    1990\n",
              "4447    2006\n",
              "7974    2013\n",
              "7146    2017\n",
              "3320    2013\n",
              "Name: release_year, Length: 1762, dtype: int64"
            ]
          },
          "metadata": {},
          "execution_count": 155
        }
      ]
    },
    {
      "cell_type": "markdown",
      "metadata": {
        "id": "sTmLVz-6mvIc"
      },
      "source": [
        "that's it for splitting the data set into training and testing \n",
        "note: if you are not giving the test size automatically the python takes it as 0.25 means off 25% and 75% "
      ]
    },
    {
      "cell_type": "markdown",
      "metadata": {
        "id": "yiOGxbZMnI7i"
      },
      "source": [
        "**RECOMMENDATIONS**"
      ]
    },
    {
      "cell_type": "markdown",
      "metadata": {
        "id": "ccGzooD9PQ9V"
      },
      "source": [
        "creating model"
      ]
    },
    {
      "cell_type": "code",
      "metadata": {
        "id": "xLeEjnr7PVCO"
      },
      "source": [
        "%matplotlib inline\n",
        "from sklearn.preprocessing import LabelEncoder\n",
        "from sklearn.model_selection import train_test_split\n",
        "from sklearn.tree import DecisionTreeClassifier\n",
        "from sklearn.metrics import classification_report, confusion_matrix\n",
        "from sklearn.tree import plot_tree"
      ],
      "execution_count": 156,
      "outputs": []
    },
    {
      "cell_type": "code",
      "metadata": {
        "id": "pYuVKIdeU5oB",
        "outputId": "e09261e8-aa76-48e6-e318-d39c7c612a93",
        "colab": {
          "base_uri": "https://localhost:8080/"
        }
      },
      "source": [
        "from sklearn.tree import DecisionTreeClassifier\n",
        "dtree=DecisionTreeClassifier()\n",
        "print('Decision Tree Classifier Created')\n"
      ],
      "execution_count": 157,
      "outputs": [
        {
          "output_type": "stream",
          "name": "stdout",
          "text": [
            "Decision Tree Classifier Created\n"
          ]
        }
      ]
    },
    {
      "cell_type": "code",
      "metadata": {
        "id": "-kifMCC1u3c7",
        "colab": {
          "base_uri": "https://localhost:8080/",
          "height": 287
        },
        "outputId": "ea8454c1-070c-48ee-cff2-5561ba0deedd"
      },
      "source": [
        "rec = netflix[['title','director','cast','listed_in','description']]\n",
        "rec.head()"
      ],
      "execution_count": 158,
      "outputs": [
        {
          "output_type": "execute_result",
          "data": {
            "text/html": [
              "<div>\n",
              "<style scoped>\n",
              "    .dataframe tbody tr th:only-of-type {\n",
              "        vertical-align: middle;\n",
              "    }\n",
              "\n",
              "    .dataframe tbody tr th {\n",
              "        vertical-align: top;\n",
              "    }\n",
              "\n",
              "    .dataframe thead th {\n",
              "        text-align: right;\n",
              "    }\n",
              "</style>\n",
              "<table border=\"1\" class=\"dataframe\">\n",
              "  <thead>\n",
              "    <tr style=\"text-align: right;\">\n",
              "      <th></th>\n",
              "      <th>title</th>\n",
              "      <th>director</th>\n",
              "      <th>cast</th>\n",
              "      <th>listed_in</th>\n",
              "      <th>description</th>\n",
              "    </tr>\n",
              "  </thead>\n",
              "  <tbody>\n",
              "    <tr>\n",
              "      <th>0</th>\n",
              "      <td>Dick Johnson Is Dead</td>\n",
              "      <td>Kirsten Johnson</td>\n",
              "      <td>NaN</td>\n",
              "      <td>Documentaries</td>\n",
              "      <td>As her father nears the end of his life, filmm...</td>\n",
              "    </tr>\n",
              "    <tr>\n",
              "      <th>1</th>\n",
              "      <td>Blood &amp; Water</td>\n",
              "      <td>NaN</td>\n",
              "      <td>Ama Qamata, Khosi Ngema, Gail Mabalane, Thaban...</td>\n",
              "      <td>International TV Shows, TV Dramas, TV Mysteries</td>\n",
              "      <td>After crossing paths at a party, a Cape Town t...</td>\n",
              "    </tr>\n",
              "    <tr>\n",
              "      <th>2</th>\n",
              "      <td>Ganglands</td>\n",
              "      <td>Julien Leclercq</td>\n",
              "      <td>Sami Bouajila, Tracy Gotoas, Samuel Jouy, Nabi...</td>\n",
              "      <td>Crime TV Shows, International TV Shows, TV Act...</td>\n",
              "      <td>To protect his family from a powerful drug lor...</td>\n",
              "    </tr>\n",
              "    <tr>\n",
              "      <th>3</th>\n",
              "      <td>Jailbirds New Orleans</td>\n",
              "      <td>NaN</td>\n",
              "      <td>NaN</td>\n",
              "      <td>Docuseries, Reality TV</td>\n",
              "      <td>Feuds, flirtations and toilet talk go down amo...</td>\n",
              "    </tr>\n",
              "    <tr>\n",
              "      <th>4</th>\n",
              "      <td>Kota Factory</td>\n",
              "      <td>NaN</td>\n",
              "      <td>Mayur More, Jitendra Kumar, Ranjan Raj, Alam K...</td>\n",
              "      <td>International TV Shows, Romantic TV Shows, TV ...</td>\n",
              "      <td>In a city of coaching centers known to train I...</td>\n",
              "    </tr>\n",
              "  </tbody>\n",
              "</table>\n",
              "</div>"
            ],
            "text/plain": [
              "                   title  ...                                        description\n",
              "0   Dick Johnson Is Dead  ...  As her father nears the end of his life, filmm...\n",
              "1          Blood & Water  ...  After crossing paths at a party, a Cape Town t...\n",
              "2              Ganglands  ...  To protect his family from a powerful drug lor...\n",
              "3  Jailbirds New Orleans  ...  Feuds, flirtations and toilet talk go down amo...\n",
              "4           Kota Factory  ...  In a city of coaching centers known to train I...\n",
              "\n",
              "[5 rows x 5 columns]"
            ]
          },
          "metadata": {},
          "execution_count": 158
        }
      ]
    },
    {
      "cell_type": "code",
      "metadata": {
        "id": "okjRUh-Su3Wn",
        "colab": {
          "base_uri": "https://localhost:8080/"
        },
        "outputId": "f2f7e5eb-1981-49a2-9362-cd5e545d7984"
      },
      "source": [
        "rec.isnull().sum()"
      ],
      "execution_count": 159,
      "outputs": [
        {
          "output_type": "execute_result",
          "data": {
            "text/plain": [
              "title             0\n",
              "director       2634\n",
              "cast            825\n",
              "listed_in         0\n",
              "description       0\n",
              "dtype: int64"
            ]
          },
          "metadata": {},
          "execution_count": 159
        }
      ]
    },
    {
      "cell_type": "code",
      "metadata": {
        "id": "1MF0N1aEu3T0",
        "colab": {
          "base_uri": "https://localhost:8080/"
        },
        "outputId": "c3f86d81-541a-48fb-b960-992129ffa6c8"
      },
      "source": [
        "rec['director'].replace(np.nan,'unknown',inplace=True)\n",
        "rec['cast'].replace(np.nan,'unknown',inplace=True)"
      ],
      "execution_count": 160,
      "outputs": [
        {
          "output_type": "stream",
          "name": "stderr",
          "text": [
            "/usr/local/lib/python3.7/dist-packages/pandas/core/series.py:4582: SettingWithCopyWarning: \n",
            "A value is trying to be set on a copy of a slice from a DataFrame\n",
            "\n",
            "See the caveats in the documentation: https://pandas.pydata.org/pandas-docs/stable/user_guide/indexing.html#returning-a-view-versus-a-copy\n",
            "  method=method,\n"
          ]
        }
      ]
    },
    {
      "cell_type": "code",
      "metadata": {
        "id": "KlMuQSP2u3Rx",
        "colab": {
          "base_uri": "https://localhost:8080/"
        },
        "outputId": "7d1b8db4-cb1e-494e-816b-1d0d68579243"
      },
      "source": [
        "rec['cast'] = rec['cast'].str.replace(', ',' ')"
      ],
      "execution_count": 161,
      "outputs": [
        {
          "output_type": "stream",
          "name": "stderr",
          "text": [
            "/usr/local/lib/python3.7/dist-packages/ipykernel_launcher.py:1: SettingWithCopyWarning: \n",
            "A value is trying to be set on a copy of a slice from a DataFrame.\n",
            "Try using .loc[row_indexer,col_indexer] = value instead\n",
            "\n",
            "See the caveats in the documentation: https://pandas.pydata.org/pandas-docs/stable/user_guide/indexing.html#returning-a-view-versus-a-copy\n",
            "  \"\"\"Entry point for launching an IPython kernel.\n"
          ]
        }
      ]
    },
    {
      "cell_type": "code",
      "metadata": {
        "id": "kLXmk6oEu3OY",
        "colab": {
          "base_uri": "https://localhost:8080/"
        },
        "outputId": "deb867cc-cc32-4ee0-875a-204a7223f9ac"
      },
      "source": [
        "rec['listed_in'] = rec['listed_in'].str.replace(', ',' ')"
      ],
      "execution_count": 162,
      "outputs": [
        {
          "output_type": "stream",
          "name": "stderr",
          "text": [
            "/usr/local/lib/python3.7/dist-packages/ipykernel_launcher.py:1: SettingWithCopyWarning: \n",
            "A value is trying to be set on a copy of a slice from a DataFrame.\n",
            "Try using .loc[row_indexer,col_indexer] = value instead\n",
            "\n",
            "See the caveats in the documentation: https://pandas.pydata.org/pandas-docs/stable/user_guide/indexing.html#returning-a-view-versus-a-copy\n",
            "  \"\"\"Entry point for launching an IPython kernel.\n"
          ]
        }
      ]
    },
    {
      "cell_type": "code",
      "metadata": {
        "id": "1SVGJKWOu3JG",
        "colab": {
          "base_uri": "https://localhost:8080/"
        },
        "outputId": "24059760-eadf-4241-9c9b-2a8a51b48836"
      },
      "source": [
        "rec['combined'] = rec['title'] + ' ' + rec['director'] + ' ' + rec['cast'] + ' ' + rec['listed_in'] + ' ' + rec['description']"
      ],
      "execution_count": 163,
      "outputs": [
        {
          "output_type": "stream",
          "name": "stderr",
          "text": [
            "/usr/local/lib/python3.7/dist-packages/ipykernel_launcher.py:1: SettingWithCopyWarning: \n",
            "A value is trying to be set on a copy of a slice from a DataFrame.\n",
            "Try using .loc[row_indexer,col_indexer] = value instead\n",
            "\n",
            "See the caveats in the documentation: https://pandas.pydata.org/pandas-docs/stable/user_guide/indexing.html#returning-a-view-versus-a-copy\n",
            "  \"\"\"Entry point for launching an IPython kernel.\n"
          ]
        }
      ]
    },
    {
      "cell_type": "code",
      "metadata": {
        "id": "iS2Z4IiBu27i",
        "colab": {
          "base_uri": "https://localhost:8080/"
        },
        "outputId": "2990a29d-9512-4b0e-8881-f91b5e55d1ad"
      },
      "source": [
        "rec.drop(['cast','director','listed_in','description'],axis=1,inplace=True, errors='ignore')"
      ],
      "execution_count": 164,
      "outputs": [
        {
          "output_type": "stream",
          "name": "stderr",
          "text": [
            "/usr/local/lib/python3.7/dist-packages/pandas/core/frame.py:4174: SettingWithCopyWarning: \n",
            "A value is trying to be set on a copy of a slice from a DataFrame\n",
            "\n",
            "See the caveats in the documentation: https://pandas.pydata.org/pandas-docs/stable/user_guide/indexing.html#returning-a-view-versus-a-copy\n",
            "  errors=errors,\n"
          ]
        }
      ]
    },
    {
      "cell_type": "code",
      "metadata": {
        "id": "kTxSH7TZwNqT",
        "colab": {
          "base_uri": "https://localhost:8080/",
          "height": 203
        },
        "outputId": "fc4fff37-9bc6-4b6f-e6ff-9bce99fc7ab2"
      },
      "source": [
        "rec.head()"
      ],
      "execution_count": 165,
      "outputs": [
        {
          "output_type": "execute_result",
          "data": {
            "text/html": [
              "<div>\n",
              "<style scoped>\n",
              "    .dataframe tbody tr th:only-of-type {\n",
              "        vertical-align: middle;\n",
              "    }\n",
              "\n",
              "    .dataframe tbody tr th {\n",
              "        vertical-align: top;\n",
              "    }\n",
              "\n",
              "    .dataframe thead th {\n",
              "        text-align: right;\n",
              "    }\n",
              "</style>\n",
              "<table border=\"1\" class=\"dataframe\">\n",
              "  <thead>\n",
              "    <tr style=\"text-align: right;\">\n",
              "      <th></th>\n",
              "      <th>title</th>\n",
              "      <th>combined</th>\n",
              "    </tr>\n",
              "  </thead>\n",
              "  <tbody>\n",
              "    <tr>\n",
              "      <th>0</th>\n",
              "      <td>Dick Johnson Is Dead</td>\n",
              "      <td>Dick Johnson Is Dead Kirsten Johnson unknown D...</td>\n",
              "    </tr>\n",
              "    <tr>\n",
              "      <th>1</th>\n",
              "      <td>Blood &amp; Water</td>\n",
              "      <td>Blood &amp; Water unknown Ama Qamata Khosi Ngema G...</td>\n",
              "    </tr>\n",
              "    <tr>\n",
              "      <th>2</th>\n",
              "      <td>Ganglands</td>\n",
              "      <td>Ganglands Julien Leclercq Sami Bouajila Tracy ...</td>\n",
              "    </tr>\n",
              "    <tr>\n",
              "      <th>3</th>\n",
              "      <td>Jailbirds New Orleans</td>\n",
              "      <td>Jailbirds New Orleans unknown unknown Docuseri...</td>\n",
              "    </tr>\n",
              "    <tr>\n",
              "      <th>4</th>\n",
              "      <td>Kota Factory</td>\n",
              "      <td>Kota Factory unknown Mayur More Jitendra Kumar...</td>\n",
              "    </tr>\n",
              "  </tbody>\n",
              "</table>\n",
              "</div>"
            ],
            "text/plain": [
              "                   title                                           combined\n",
              "0   Dick Johnson Is Dead  Dick Johnson Is Dead Kirsten Johnson unknown D...\n",
              "1          Blood & Water  Blood & Water unknown Ama Qamata Khosi Ngema G...\n",
              "2              Ganglands  Ganglands Julien Leclercq Sami Bouajila Tracy ...\n",
              "3  Jailbirds New Orleans  Jailbirds New Orleans unknown unknown Docuseri...\n",
              "4           Kota Factory  Kota Factory unknown Mayur More Jitendra Kumar..."
            ]
          },
          "metadata": {},
          "execution_count": 165
        }
      ]
    },
    {
      "cell_type": "code",
      "metadata": {
        "id": "zKf59SGUwNob",
        "colab": {
          "base_uri": "https://localhost:8080/",
          "height": 86
        },
        "outputId": "0d3157f0-413a-4d63-c0a1-b803e5ec7cc9"
      },
      "source": [
        "rec['combined'][1]"
      ],
      "execution_count": 166,
      "outputs": [
        {
          "output_type": "execute_result",
          "data": {
            "application/vnd.google.colaboratory.intrinsic+json": {
              "type": "string"
            },
            "text/plain": [
              "'Blood & Water unknown Ama Qamata Khosi Ngema Gail Mabalane Thabang Molaba Dillon Windvogel Natasha Thahane Arno Greeff Xolile Tshabalala Getmore Sithole Cindy Mahlangu Ryle De Morny Greteli Fincham Sello Maake Ka-Ncube Odwa Gwanya Mekaila Mathys Sandi Schultz Duane Williams Shamilla Miller Patrick Mofokeng International TV Shows TV Dramas TV Mysteries After crossing paths at a party, a Cape Town teen sets out to prove whether a private-school swimming star is her sister who was abducted at birth.'"
            ]
          },
          "metadata": {},
          "execution_count": 166
        }
      ]
    },
    {
      "cell_type": "code",
      "metadata": {
        "id": "rg7zkW3WspuM",
        "colab": {
          "base_uri": "https://localhost:8080/"
        },
        "outputId": "5763badf-f0fe-4ca3-e240-3101e50efceb"
      },
      "source": [
        "from sklearn.feature_extraction.text import TfidfVectorizer\n",
        "tfidf = TfidfVectorizer(stop_words='english')\n",
        "tfidf_matrix = tfidf.fit_transform(rec['combined'].str.lower())\n",
        "\n",
        "tfidf_matrix.shape"
      ],
      "execution_count": 167,
      "outputs": [
        {
          "output_type": "execute_result",
          "data": {
            "text/plain": [
              "(8807, 52938)"
            ]
          },
          "metadata": {},
          "execution_count": 167
        }
      ]
    },
    {
      "cell_type": "code",
      "metadata": {
        "id": "Qyw-w8A0sXM4",
        "colab": {
          "base_uri": "https://localhost:8080/"
        },
        "outputId": "bf74a0fd-b67d-4bb7-aca0-9f76df64a30f"
      },
      "source": [
        "from sklearn.metrics.pairwise import linear_kernel\n",
        "cosine_sim = linear_kernel(tfidf_matrix, tfidf_matrix)\n",
        "print(rec.index)"
      ],
      "execution_count": 168,
      "outputs": [
        {
          "output_type": "stream",
          "name": "stdout",
          "text": [
            "RangeIndex(start=0, stop=8807, step=1)\n"
          ]
        }
      ]
    },
    {
      "cell_type": "code",
      "metadata": {
        "id": "qL-U7JRJXuw7",
        "outputId": "2a125d6b-de62-43f6-d2b1-fca862281990",
        "colab": {
          "base_uri": "https://localhost:8080/"
        }
      },
      "source": [
        "indices = pd.Series(rec.index, index=rec['title']).drop_duplicates()\n",
        "type(indices)"
      ],
      "execution_count": 169,
      "outputs": [
        {
          "output_type": "execute_result",
          "data": {
            "text/plain": [
              "pandas.core.series.Series"
            ]
          },
          "metadata": {},
          "execution_count": 169
        }
      ]
    },
    {
      "cell_type": "code",
      "metadata": {
        "id": "eXWEsXjUnSSh"
      },
      "source": [
        "def get_recommendations(title, cosine_sim=cosine_sim):\n",
        "    try:\n",
        "        idx = indices[title]\n",
        "    except:\n",
        "        return None\n",
        "    sim_scores = list(enumerate(cosine_sim[idx]))\n",
        "    sim_scores = sorted(sim_scores, key=lambda x: x[1], reverse=True)\n",
        "    sim_scores = sim_scores[1:11]\n",
        "    match = [i[0] for i in sim_scores]\n",
        "    score = [i[1] for i in sim_scores]\n",
        "    dictionary = dict(zip(match, score))\n",
        "    return dictionary"
      ],
      "execution_count": 170,
      "outputs": []
    },
    {
      "cell_type": "code",
      "metadata": {
        "id": "pV2N29kGxKlW"
      },
      "source": [
        "def recommend(title):\n",
        "    result = get_recommendations(title)\n",
        "    #print(result)\n",
        "    if result is None:\n",
        "        print(f'{title} not found in database')\n",
        "    else:\n",
        "        print(f'Movie related to {title} are: ')\n",
        "        for i in result:\n",
        "            print(f\"{rec['title'].iloc[i]} with score {result[i]*100:.2f} %\")"
      ],
      "execution_count": 171,
      "outputs": []
    },
    {
      "cell_type": "code",
      "metadata": {
        "id": "h83ui-rexKbU",
        "colab": {
          "base_uri": "https://localhost:8080/"
        },
        "outputId": "3741cf17-7a89-472f-96ed-d6e6c377a6bd"
      },
      "source": [
        "recommend('Blood & Water')"
      ],
      "execution_count": 172,
      "outputs": [
        {
          "output_type": "stream",
          "name": "stdout",
          "text": [
            "Movie related to Blood & Water are: \n",
            "Diamond City with score 11.17 %\n",
            "Kings of Jo'Burg with score 8.47 %\n",
            "Shirkers with score 7.73 %\n",
            "The Future of Water with score 7.42 %\n",
            "Lady in the Water with score 7.04 %\n",
            "Dive Club with score 6.38 %\n",
            "Frank and Cindy with score 6.38 %\n",
            "Get Even with score 6.28 %\n",
            "Lion Pride with score 6.08 %\n",
            "The Keepers with score 6.05 %\n"
          ]
        }
      ]
    },
    {
      "cell_type": "markdown",
      "metadata": {
        "id": "hIG_4hCzX6Ky"
      },
      "source": [
        "the above recommendations are usefull for the viewer to watch the content...."
      ]
    }
  ]
}